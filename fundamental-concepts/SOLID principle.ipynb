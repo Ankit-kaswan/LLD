{
 "cells": [
  {
   "cell_type": "markdown",
   "id": "841aa883-708e-4315-92ea-040eda14f7d8",
   "metadata": {},
   "source": [
    "# SOLID principles in Python\n",
    "\n",
    "## 1. Single Responsibility Principle (SRP)\n",
    "\n",
    "A class should have only one responsibility and one reason to change."
   ]
  },
  {
   "cell_type": "code",
   "execution_count": 2,
   "id": "87dd1dd1-c053-4a93-b7d1-e89100931ea8",
   "metadata": {},
   "outputs": [],
   "source": [
    "# Violating SRP\n",
    "\n",
    "class Car:\n",
    "\n",
    "    def __init__(self, company, model, year):\n",
    "        self.company = company\n",
    "        self.model = model\n",
    "        self.year = year\n",
    "\n",
    "    def save_to_file(self, filename):\n",
    "        with open(filename, 'w') as file:\n",
    "            file.write(f\"{self.company}, {self.model}, {self.year}\")\n"
   ]
  },
  {
   "cell_type": "code",
   "execution_count": 3,
   "id": "b8660c70-8698-4ea1-b61e-f1290322ddbd",
   "metadata": {},
   "outputs": [],
   "source": [
    "# Following SRP\n",
    "\n",
    "class Car:\n",
    "\n",
    "    def __init__(self, company, model, year):\n",
    "        self.company = company\n",
    "        self.model = model\n",
    "        self.year = year\n",
    "\n",
    "\n",
    "class FileManager:\n",
    "\n",
    "    @staticmethod\n",
    "    def save_to_file(car, filename):\n",
    "        with open(filename, 'w') as file:\n",
    "            file.write(f\"{car.company}, {car.model}, {car.year}\")\n"
   ]
  },
  {
   "cell_type": "markdown",
   "id": "75a80dc9-ba8d-417c-b3b0-12f6b7aba448",
   "metadata": {},
   "source": [
    "# 2. Open/Closed Principle (OCP)\n",
    "\n",
    "A class should be open for extension but closed for modification. This means new functionality can be added without changing the existing code"
   ]
  },
  {
   "cell_type": "code",
   "execution_count": 5,
   "id": "c412d94e-42a7-4d50-ab40-8b840f1d1131",
   "metadata": {},
   "outputs": [],
   "source": [
    "# Violating OCP\n",
    "\n",
    "class Car:\n",
    "\n",
    "    def __init__(self, car_type, company, model, year):\n",
    "        self.car_type = car_type\n",
    "        self.company = company\n",
    "        self.model = model\n",
    "        self.year = year\n",
    "\n",
    "    def get_tax(self):\n",
    "        if self.car_type == \"SUV\":\n",
    "            return 5000\n",
    "        elif self.car_type == \"Sedan\":\n",
    "            return 3000\n",
    "        else:\n",
    "            return 1000\n"
   ]
  },
  {
   "cell_type": "code",
   "execution_count": 6,
   "id": "512d13af-218f-489e-86a4-9c0611e404a3",
   "metadata": {},
   "outputs": [],
   "source": [
    "# Following OCP\n",
    "\n",
    "from abc import ABC, abstractmethod\n",
    "\n",
    "\n",
    "class Car(ABC):\n",
    "\n",
    "    def __init__(self, company, model, year):\n",
    "        self.company = company\n",
    "        self.model = model\n",
    "        self.year = year\n",
    "\n",
    "    @abstractmethod\n",
    "    def get_tax(self):\n",
    "        pass\n",
    "\n",
    "\n",
    "class SUV(Car):\n",
    "\n",
    "    def get_tax(self):\n",
    "        return 5000\n",
    "\n",
    "\n",
    "class Sedan(Car):\n",
    "\n",
    "    def get_tax(self):\n",
    "        return 3000\n",
    "\n",
    "\n",
    "class Hatchback(Car):\n",
    "\n",
    "    def get_tax(self):\n",
    "        return 1000\n"
   ]
  },
  {
   "cell_type": "markdown",
   "id": "59dffee8-1fe6-4572-b8c6-526f2cd8b665",
   "metadata": {},
   "source": [
    "# 3. Liskov Substitution Principle (LSP)\n",
    "\n",
    "Subtypes must be substitutable for their base types. In other words, objects of a derived class should be able to replace objects of the base class without altering the correctness of the program."
   ]
  },
  {
   "cell_type": "code",
   "execution_count": 8,
   "id": "4e5d68e7-2d4e-433d-a448-dc661a43b6fe",
   "metadata": {},
   "outputs": [],
   "source": [
    "# Violating LSP\n",
    "\n",
    "class Car:\n",
    "\n",
    "    def start(self):\n",
    "        print(\"Car is starting...\")\n",
    "\n",
    "\n",
    "class ElectricCar(Car):\n",
    "\n",
    "    def start(self):\n",
    "        raise NotImplementedError(\"Electric cars don't use start functionality\")\n"
   ]
  },
  {
   "cell_type": "code",
   "execution_count": 9,
   "id": "7efda76a-27b0-451e-bce4-a367ec3bcb1e",
   "metadata": {},
   "outputs": [],
   "source": [
    "# Following LSP\n",
    "\n",
    "class Car:\n",
    "\n",
    "    def start(self):\n",
    "        print(\"Car is starting...\")\n",
    "\n",
    "\n",
    "class ElectricCar(Car):\n",
    "\n",
    "    def start(self):\n",
    "        print(\"Electric car is starting silently...\")\n"
   ]
  },
  {
   "cell_type": "markdown",
   "id": "404e0313-cf64-4488-95cb-4a6e9fdef8f2",
   "metadata": {},
   "source": [
    "# 4. Interface Segregation Principle (ISP)\n",
    "\n",
    "A class should not be forced to implement methods it does not use. Interfaces (or abstract classes in Python) should be specific to the needs of the class."
   ]
  },
  {
   "cell_type": "code",
   "execution_count": 11,
   "id": "3315a20a-4a6a-4713-97c0-f57ebfaa5323",
   "metadata": {},
   "outputs": [],
   "source": [
    "# Violating ISP\n",
    "\n",
    "class Vehicle:\n",
    "\n",
    "    def drive(self):\n",
    "        pass\n",
    "\n",
    "    def fly(self):\n",
    "        pass\n",
    "\n",
    "\n",
    "class Car(Vehicle):\n",
    "\n",
    "    def drive(self):\n",
    "        print(\"Car is driving...\")\n",
    "\n",
    "    def fly(self):\n",
    "        raise NotImplementedError(\"Cars cannot fly!\")\n"
   ]
  },
  {
   "cell_type": "code",
   "execution_count": 12,
   "id": "304310c3-f0dd-4a7f-adcd-09944e076bfa",
   "metadata": {},
   "outputs": [],
   "source": [
    "# Following ISP\n",
    "\n",
    "class Drivable:\n",
    "\n",
    "    def drive(self):\n",
    "        pass\n",
    "\n",
    "\n",
    "class Flyable:\n",
    "\n",
    "    def fly(self):\n",
    "        pass\n",
    "\n",
    "\n",
    "class Car(Drivable):\n",
    "\n",
    "    def drive(self):\n",
    "        print(\"Car is driving...\")\n",
    "\n",
    "\n",
    "class Airplane(Flyable):\n",
    "\n",
    "    def fly(self):\n",
    "        print(\"Airplane is flying...\")\n"
   ]
  },
  {
   "cell_type": "markdown",
   "id": "c639a4b9-b1a8-437a-9c5e-04b826660daf",
   "metadata": {},
   "source": [
    "# 5. Dependency Inversion Principle (DIP)\n",
    "\n",
    "High-level modules should not depend on low-level modules. Both should depend on abstractions. Dependency injection can be used to achieve this."
   ]
  },
  {
   "cell_type": "code",
   "execution_count": 14,
   "id": "9d4b0c6f-31c0-4f7a-ae07-bdff27fcd120",
   "metadata": {},
   "outputs": [],
   "source": [
    "# Violating DIP\n",
    "\n",
    "class PetrolEngine:\n",
    "    def start(self):\n",
    "        print(\"Petrol engine starting...\")\n",
    "\n",
    "\n",
    "class Car:\n",
    "    def __init__(self):\n",
    "        self.engine = PetrolEngine()  # Direct dependency on PetrolEngine\n",
    "\n",
    "    def start(self):\n",
    "        self.engine.start()\n"
   ]
  },
  {
   "cell_type": "code",
   "execution_count": 15,
   "id": "52b38ca1-614f-4105-a0dc-08f830c9c001",
   "metadata": {},
   "outputs": [],
   "source": [
    "# Following DIP\n",
    "\n",
    "from abc import ABC, abstractmethod\n",
    "\n",
    "\n",
    "# Abstract Engine\n",
    "class Engine(ABC):\n",
    "\n",
    "    @abstractmethod\n",
    "    def start(self):\n",
    "        pass\n",
    "\n",
    "\n",
    "# Concrete Implementations\n",
    "class PetrolEngine(Engine):\n",
    " \n",
    "    def start(self):\n",
    "        print(\"Petrol engine starting...\")\n",
    "\n",
    "\n",
    "class DieselEngine(Engine):\n",
    "\n",
    "    def start(self):\n",
    "        print(\"Diesel engine starting...\")\n",
    "\n",
    "\n",
    "class ElectricEngine(Engine):\n",
    "\n",
    "    def start(self):\n",
    "        print(\"Electric engine starting silently...\")\n",
    "\n",
    "\n",
    "# Car depends on abstraction (Engine)\n",
    "class Car:\n",
    "\n",
    "    def __init__(self, engine: Engine):\n",
    "        self.engine = engine  # Dependency Injection: Inject an engine\n",
    "\n",
    "    def start(self):\n",
    "        print(\"Car is starting...\")\n",
    "        self.engine.start()\n"
   ]
  },
  {
   "cell_type": "code",
   "execution_count": null,
   "id": "91319b96-f2d1-4e41-b4d4-863a5c9920ae",
   "metadata": {},
   "outputs": [],
   "source": []
  }
 ],
 "metadata": {
  "kernelspec": {
   "display_name": "Python 3 (ipykernel)",
   "language": "python",
   "name": "python3"
  },
  "language_info": {
   "codemirror_mode": {
    "name": "ipython",
    "version": 3
   },
   "file_extension": ".py",
   "mimetype": "text/x-python",
   "name": "python",
   "nbconvert_exporter": "python",
   "pygments_lexer": "ipython3",
   "version": "3.10.14"
  }
 },
 "nbformat": 4,
 "nbformat_minor": 5
}
