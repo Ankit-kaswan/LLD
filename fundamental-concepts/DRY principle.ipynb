{
 "cells": [
  {
   "cell_type": "markdown",
   "id": "8b65aef5-b3d6-4169-8141-dccb823552eb",
   "metadata": {},
   "source": [
    "#  DRY Principle: \"Don't Repeat Yourself\"\n",
    "\n",
    "The goal is to improve code maintainability, reusability, and readability by centralizing logic that is repeated in multiple places.\n",
    "\n",
    "### Why is DRY Important?\n",
    "- Maintainability: If you need to change functionality, you update it in one place, not everywhere it's duplicated.\n",
    "- Consistency: Avoids logical inconsistencies from repeated code.\n",
    "- Code Size: Less repetitive code reduces the size of the codebase.\n",
    "- Readability: Cleaner code makes it easier to read and understand.\n",
    "\n",
    "### When Not to Use DRY\n",
    "\n",
    "While DRY is a valuable principle, over-abstraction can make the code harder to understand. Always strike a balance:\n",
    "\n",
    "- Do not combine unrelated logic.\n",
    "- Avoid premature optimization or abstractio"
   ]
  },
  {
   "cell_type": "markdown",
   "id": "4b15d797-2ab7-4c6a-a6ca-a96eb5e2b825",
   "metadata": {},
   "source": [
    "## Example 1: Repeated Code in Functions"
   ]
  },
  {
   "cell_type": "code",
   "execution_count": 3,
   "id": "dc1a0fcf-8d2d-484f-9985-03b4d01f2842",
   "metadata": {},
   "outputs": [],
   "source": [
    "# Violating DRY\n",
    "\n",
    "def rectangle_area(length, width):\n",
    "    return length * width\n",
    "\n",
    "\n",
    "def square_area(side):\n",
    "    return side * side\n"
   ]
  },
  {
   "cell_type": "code",
   "execution_count": 4,
   "id": "1224d207-2bc6-4a1d-9590-b65dfa01042c",
   "metadata": {},
   "outputs": [
    {
     "name": "stdout",
     "output_type": "stream",
     "text": [
      "50\n",
      "16\n"
     ]
    }
   ],
   "source": [
    "# Following DRY\n",
    "\n",
    "def area(shape, dimension1, dimension2=None):\n",
    "    if shape == \"rectangle\":\n",
    "        return dimension1 * dimension2\n",
    "    elif shape == \"square\":\n",
    "        return dimension1 * dimension1\n",
    "    else:\n",
    "        raise ValueError(\"Unsupported shape\")\n",
    "\n",
    "\n",
    "# Usage\n",
    "print(area(\"rectangle\", 10, 5))  # Rectangle\n",
    "print(area(\"square\", 4))        # Square\n"
   ]
  },
  {
   "cell_type": "markdown",
   "id": "eaa88830-7363-41d6-b884-72bc122ce371",
   "metadata": {},
   "source": [
    "## Example 2: Repeated Code in Multiple Files"
   ]
  },
  {
   "cell_type": "code",
   "execution_count": 6,
   "id": "9ac64b27-6085-4ae8-aec3-9b6a50301407",
   "metadata": {},
   "outputs": [],
   "source": [
    "# Violating DRY\n",
    "\n",
    "# utils.py\n",
    "def calculate_tax(amount, tax_rate):\n",
    "    return amount * tax_rate\n",
    "\n",
    "\n",
    "# invoice.py\n",
    "def calculate_tax(amount, tax_rate):\n",
    "    return amount * tax_rate\n"
   ]
  },
  {
   "cell_type": "code",
   "execution_count": 7,
   "id": "cd17f381-a902-41a4-bde9-1d1d488f239d",
   "metadata": {},
   "outputs": [
    {
     "name": "stdout",
     "output_type": "stream",
     "text": [
      "180.0\n"
     ]
    }
   ],
   "source": [
    "# Following DRY\n",
    "\n",
    "# utils.py (shared module)\n",
    "def calculate_tax(amount, tax_rate):\n",
    "    return amount * tax_rate\n",
    "\n",
    "\n",
    "# invoice.py\n",
    "# from utils import calculate_tax\n",
    "\n",
    "\n",
    "# Now calculate_tax is reused\n",
    "result = calculate_tax(1000, 0.18)\n",
    "print(result)\n"
   ]
  },
  {
   "cell_type": "markdown",
   "id": "029c8775-513e-4aaf-9a93-99a895155abd",
   "metadata": {},
   "source": [
    "## Example 3: Repeated Code in Classes"
   ]
  },
  {
   "cell_type": "code",
   "execution_count": 9,
   "id": "ce592693-80ce-4ca0-81f3-e8c9afdb024b",
   "metadata": {},
   "outputs": [],
   "source": [
    "# Violating DRY\n",
    "\n",
    "class Rectangle:\n",
    "    def __init__(self, length, width):\n",
    "        self.length = length\n",
    "        self.width = width\n",
    "\n",
    "    def area(self):\n",
    "        return self.length * self.width\n",
    "\n",
    "\n",
    "class Square:\n",
    "    def __init__(self, side):\n",
    "        self.side = side\n",
    "\n",
    "    def area(self):\n",
    "        return self.side * self.side\n"
   ]
  },
  {
   "cell_type": "code",
   "execution_count": 10,
   "id": "fc468a2b-6dfc-4329-abb0-00b4a80a73e7",
   "metadata": {},
   "outputs": [
    {
     "name": "stdout",
     "output_type": "stream",
     "text": [
      "50\n",
      "16\n"
     ]
    }
   ],
   "source": [
    "# Following DRY\n",
    "\n",
    "class Shape:\n",
    "    def area(self):\n",
    "        raise NotImplementedError(\"Subclasses must implement this method\")\n",
    "\n",
    "\n",
    "class Rectangle(Shape):\n",
    "    def __init__(self, length, width):\n",
    "        self.length = length\n",
    "        self.width = width\n",
    "\n",
    "    def area(self):\n",
    "        return self.length * self.width\n",
    "\n",
    "\n",
    "class Square(Shape):\n",
    "    def __init__(self, side):\n",
    "        self.side = side\n",
    "\n",
    "    def area(self):\n",
    "        return self.side * self.side\n",
    "\n",
    "\n",
    "# Usage\n",
    "rectangle = Rectangle(10, 5)\n",
    "square = Square(4)\n",
    "print(rectangle.area())  # Rectangle Area\n",
    "print(square.area())     # Square Area\n"
   ]
  },
  {
   "cell_type": "code",
   "execution_count": null,
   "id": "060512dd-e651-4335-9af9-a3fafbd56677",
   "metadata": {},
   "outputs": [],
   "source": []
  }
 ],
 "metadata": {
  "kernelspec": {
   "display_name": "Python 3 (ipykernel)",
   "language": "python",
   "name": "python3"
  },
  "language_info": {
   "codemirror_mode": {
    "name": "ipython",
    "version": 3
   },
   "file_extension": ".py",
   "mimetype": "text/x-python",
   "name": "python",
   "nbconvert_exporter": "python",
   "pygments_lexer": "ipython3",
   "version": "3.10.14"
  }
 },
 "nbformat": 4,
 "nbformat_minor": 5
}
