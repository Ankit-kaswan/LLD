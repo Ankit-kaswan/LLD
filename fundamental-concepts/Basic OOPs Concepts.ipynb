{
 "cells": [
  {
   "cell_type": "markdown",
   "id": "ea01357a-68cc-4256-a953-5f9015387000",
   "metadata": {},
   "source": [
    "# OOP Concepts in Python\n",
    "\n",
    "## 1. Class and Object\n",
    "\n",
    "A class is a blueprint for creating objects. An object is an instance of a class."
   ]
  },
  {
   "cell_type": "code",
   "execution_count": 2,
   "id": "77b7c747-94ac-4022-9b62-3f142c141445",
   "metadata": {},
   "outputs": [
    {
     "name": "stdout",
     "output_type": "stream",
     "text": [
      "Car Company: Toyota\n",
      "Car Model: Corolla\n",
      "Car Year: 2020\n",
      "Car Company: Honda\n",
      "Car Model: Civic\n",
      "Car Year: 2018\n"
     ]
    }
   ],
   "source": [
    "class Car:\n",
    "\n",
    "    def __init__(self, company, model, year):\n",
    "        self.company = company\n",
    "        self.model = model\n",
    "        self.year = year\n",
    "\n",
    "    def display_info(self):\n",
    "        print(f\"Car Company: {self.company}\")\n",
    "        print(f\"Car Model: {self.model}\")\n",
    "        print(f\"Car Year: {self.year}\")\n",
    "\n",
    "\n",
    "# Creating objects of the Car class\n",
    "car1 = Car(\"Toyota\", \"Corolla\", 2020)\n",
    "car2 = Car(\"Honda\", \"Civic\", 2018)\n",
    "\n",
    "# Accessing object attributes and methods\n",
    "car1.display_info()\n",
    "car2.display_info()\n"
   ]
  },
  {
   "cell_type": "markdown",
   "id": "2a58e1e5-dfe9-46fb-a796-d94f561c001c",
   "metadata": {},
   "source": [
    "# 2. Encapsulation\n",
    "\n",
    "Encapsulation refers to the concept of hiding the internal details of an object and exposing only the necessary parts."
   ]
  },
  {
   "cell_type": "code",
   "execution_count": 4,
   "id": "4c78ae4a-8b62-4fbc-898e-2b9e380257aa",
   "metadata": {},
   "outputs": [
    {
     "name": "stdout",
     "output_type": "stream",
     "text": [
      "2020\n",
      "2021\n",
      "Invalid year. Must be 2000 or later.\n"
     ]
    }
   ],
   "source": [
    "class Car:\n",
    "\n",
    "    def __init__(self, company, model, year):\n",
    "        self.company = company\n",
    "        self.model = model\n",
    "        self.__year = year  # Private attribute\n",
    "\n",
    "    def get_year(self):\n",
    "        return self.__year\n",
    "\n",
    "    def set_year(self, year):\n",
    "        if year >= 2000:\n",
    "            self.__year = year\n",
    "        else:\n",
    "            print(\"Invalid year. Must be 2000 or later.\")\n",
    "\n",
    "\n",
    "# Creating objects of the Car class\n",
    "car1 = Car(\"Toyota\", \"Corolla\", 2020)\n",
    "\n",
    "print(car1.get_year())  # Accessing the private attribute through getter method\n",
    "car1.set_year(2021)  # Setting a new valid year\n",
    "print(car1.get_year())  # Get the year of Car\n",
    "car1.set_year(1999)  # Invalid year\n"
   ]
  },
  {
   "cell_type": "markdown",
   "id": "3c4a4b30-1fe2-4a4c-93cd-5ed11df728a9",
   "metadata": {},
   "source": [
    "# 3. Inheritance\n",
    "\n",
    "Inheritance allows one class to inherit the properties and methods of another class. This enables code reuse and method overriding.\n",
    "\n",
    "### 3.1. Single Inheritance\n",
    "In single inheritance, a subclass inherits from one base class."
   ]
  },
  {
   "cell_type": "code",
   "execution_count": 6,
   "id": "fe1bbce5-b298-4da2-b834-e241f8f675be",
   "metadata": {},
   "outputs": [
    {
     "name": "stdout",
     "output_type": "stream",
     "text": [
      "Car Company: Ferrari\n",
      "Car Model: 488\n",
      "Car Year: 2021\n",
      "Top Spped: 330 km/h\n"
     ]
    }
   ],
   "source": [
    "class Car:\n",
    "\n",
    "    def __init__(self, company, model, year):\n",
    "        self.company = company\n",
    "        self.model = model\n",
    "        self.year = year\n",
    "\n",
    "    def display_info(self):\n",
    "        print(f\"Car Company: {self.company}\")\n",
    "        print(f\"Car Model: {self.model}\")\n",
    "        print(f\"Car Year: {self.year}\")\n",
    "\n",
    "\n",
    "class SportsCar(Car):\n",
    "\n",
    "    def __init__(self, company, model, year, top_speed):\n",
    "        super().__init__(company=company, model=model, year=year)\n",
    "        self.top_speed = top_speed\n",
    "\n",
    "    def display_info(self):\n",
    "        super().display_info()\n",
    "        print(f\"Top Spped: {self.top_speed} km/h\")\n",
    "\n",
    "\n",
    "# Creating an object of SportsCar\n",
    "sports_car = SportsCar(\"Ferrari\", \"488\", 2021, 330)\n",
    "sports_car.display_info()\n"
   ]
  },
  {
   "cell_type": "markdown",
   "id": "0ddb6dee-6faa-40f4-ac12-8a3d87fe83ba",
   "metadata": {},
   "source": [
    "### 3.2. Multiple Inheritance\n",
    "\n",
    "In multiple inheritance, a subclass inherits from two or more base classes."
   ]
  },
  {
   "cell_type": "code",
   "execution_count": 8,
   "id": "79a45842-bf64-4a2b-aab0-24a03975c4fc",
   "metadata": {},
   "outputs": [
    {
     "name": "stdout",
     "output_type": "stream",
     "text": [
      "Car: 2020 Ferrari 488\n",
      "Engine Type: V8\n",
      "Top Speed: 340 km/h\n"
     ]
    }
   ],
   "source": [
    "class Engine:\n",
    "    def __init__(self, engine_type):\n",
    "        self.engine_type = engine_type\n",
    "\n",
    "    def display_engine_info(self):\n",
    "        print(f\"Engine Type: {self.engine_type}\")\n",
    "\n",
    "\n",
    "class Car:\n",
    "    def __init__(self, company, model, year):\n",
    "        self.company = company\n",
    "        self.model = model\n",
    "        self.year = year\n",
    "\n",
    "    def display_info(self):\n",
    "        print(f\"Car: {self.year} {self.company} {self.model}\")\n",
    "\n",
    "\n",
    "class SportsCar(Car, Engine):\n",
    "    def __init__(self, company, model, year, engine_type, top_speed):\n",
    "        Car.__init__(self, company, model, year)  # Initialize Car\n",
    "        Engine.__init__(self, engine_type)  # Initialize Engine\n",
    "        self.top_speed = top_speed\n",
    "\n",
    "    def display_info(self):\n",
    "        Car.display_info(self)\n",
    "        Engine.display_engine_info(self)\n",
    "        print(f\"Top Speed: {self.top_speed} km/h\")\n",
    "\n",
    "\n",
    "# Creating an object of SportsCar (Multiple Inheritance)\n",
    "sports_car = SportsCar(\"Ferrari\", \"488\", 2020, \"V8\", 340)\n",
    "sports_car.display_info()\n"
   ]
  },
  {
   "cell_type": "markdown",
   "id": "b45a6786-add7-4ad4-87d6-39467b7e7a67",
   "metadata": {},
   "source": [
    "### 3.3. Multilevel Inheritance\n",
    "In multilevel inheritance, a class inherits from a class that is already a subclass of another class"
   ]
  },
  {
   "cell_type": "code",
   "execution_count": 10,
   "id": "d45eae67-d982-46d8-9b1c-6576515bc73f",
   "metadata": {},
   "outputs": [
    {
     "name": "stdout",
     "output_type": "stream",
     "text": [
      "Car: 2021 Porsche 911 Turbo\n",
      "Top Speed: 330 km/h\n",
      "Luxury Features: Heated Seats, Premium Sound System\n"
     ]
    }
   ],
   "source": [
    "class Car:\n",
    "    def __init__(self, company, model, year):\n",
    "        self.company = company\n",
    "        self.model = model\n",
    "        self.year = year\n",
    "\n",
    "    def display_info(self):\n",
    "        print(f\"Car: {self.year} {self.company} {self.model}\")\n",
    "\n",
    "\n",
    "class SportsCar(Car):\n",
    "    def __init__(self, company, model, year, top_speed):\n",
    "        super().__init__(company, model, year)\n",
    "        self.top_speed = top_speed\n",
    "\n",
    "    def display_info(self):\n",
    "        super().display_info()\n",
    "        print(f\"Top Speed: {self.top_speed} km/h\")\n",
    "\n",
    "\n",
    "class LuxurySportsCar(SportsCar):\n",
    "    def __init__(self, company, model, year, top_speed, luxury_features):\n",
    "        super().__init__(company, model, year, top_speed)\n",
    "        self.luxury_features = luxury_features\n",
    "\n",
    "    def display_info(self):\n",
    "        super().display_info()\n",
    "        print(f\"Luxury Features: {', '.join(self.luxury_features)}\")\n",
    "\n",
    "\n",
    "# Creating an object of LuxurySportsCar (Multilevel Inheritance)\n",
    "luxury_sports_car = LuxurySportsCar(\"Porsche\", \"911 Turbo\", 2021, 330, [\"Heated Seats\", \"Premium Sound System\"])\n",
    "luxury_sports_car.display_info()\n"
   ]
  },
  {
   "cell_type": "markdown",
   "id": "d603310b-fcb0-4f1e-ae4e-389dd47c197d",
   "metadata": {},
   "source": [
    "### 3.4. Hierarchical Inheritance\n",
    "In hierarchical inheritance, multiple classes inherit from the same base class."
   ]
  },
  {
   "cell_type": "code",
   "execution_count": 12,
   "id": "de72ff30-6626-479e-88b5-f1c506112c48",
   "metadata": {},
   "outputs": [
    {
     "name": "stdout",
     "output_type": "stream",
     "text": [
      "Car: 2021 Honda Accord\n",
      "Trunk Size: 450 liters\n",
      "Car: 2020 Ferrari 488\n",
      "Top Speed: 340 km/h\n"
     ]
    }
   ],
   "source": [
    "class Car:\n",
    "    def __init__(self, company, model, year):\n",
    "        self.company = company\n",
    "        self.model = model\n",
    "        self.year = year\n",
    "\n",
    "    def display_info(self):\n",
    "        print(f\"Car: {self.year} {self.company} {self.model}\")\n",
    "\n",
    "\n",
    "class Sedan(Car):\n",
    "    def __init__(self, company, model, year, trunk_size):\n",
    "        super().__init__(company, model, year)\n",
    "        self.trunk_size = trunk_size\n",
    "\n",
    "    def display_info(self):\n",
    "        super().display_info()\n",
    "        print(f\"Trunk Size: {self.trunk_size} liters\")\n",
    "\n",
    "\n",
    "class SportsCar(Car):\n",
    "    def __init__(self, company, model, year, top_speed):\n",
    "        super().__init__(company, model, year)\n",
    "        self.top_speed = top_speed\n",
    "\n",
    "    def display_info(self):\n",
    "        super().display_info()\n",
    "        print(f\"Top Speed: {self.top_speed} km/h\")\n",
    "\n",
    "\n",
    "# Creating objects of Sedan and SportsCar (Hierarchical Inheritance)\n",
    "sedan = Sedan(\"Honda\", \"Accord\", 2021, 450)\n",
    "sports_car = SportsCar(\"Ferrari\", \"488\", 2020, 340)\n",
    "\n",
    "sedan.display_info()\n",
    "sports_car.display_info()\n"
   ]
  },
  {
   "cell_type": "markdown",
   "id": "29b3eb11-0f05-469b-b583-a885c7f77bb8",
   "metadata": {},
   "source": [
    "### 3.5. Hybrid Inheritance\n",
    "Hybrid inheritance is a combination of multiple inheritance and other types of inheritance. It can create a more complex inheritance structure"
   ]
  },
  {
   "cell_type": "code",
   "execution_count": 14,
   "id": "76011e82-69e9-4c0b-ac4b-5c0dbd280734",
   "metadata": {},
   "outputs": [
    {
     "name": "stdout",
     "output_type": "stream",
     "text": [
      "Car: 2022 Tesla Model S\n",
      "Electric Engine - Battery Capacity: 100 kWh\n"
     ]
    }
   ],
   "source": [
    "class Engine:\n",
    "    def __init__(self, engine_type):\n",
    "        self.engine_type = engine_type\n",
    "\n",
    "    def display_engine_info(self):\n",
    "        print(f\"Engine Type: {self.engine_type}\")\n",
    "\n",
    "\n",
    "class Car:\n",
    "    def __init__(self, company, model, year):\n",
    "        self.company = company\n",
    "        self.model = model\n",
    "        self.year = year\n",
    "\n",
    "    def display_info(self):\n",
    "        print(f\"Car: {self.year} {self.company} {self.model}\")\n",
    "\n",
    "\n",
    "class ElectricEngine(Engine):\n",
    "    def __init__(self, battery_capacity):\n",
    "        self.battery_capacity = battery_capacity\n",
    "\n",
    "    def display_engine_info(self):\n",
    "        print(f\"Electric Engine - Battery Capacity: {self.battery_capacity} kWh\")\n",
    "\n",
    "\n",
    "class ElectricCar(Car, ElectricEngine):\n",
    "    def __init__(self, company, model, year, battery_capacity):\n",
    "        Car.__init__(self, company, model, year)\n",
    "        ElectricEngine.__init__(self, battery_capacity)\n",
    "\n",
    "    def display_info(self):\n",
    "        Car.display_info(self)\n",
    "        ElectricEngine.display_engine_info(self)\n",
    "\n",
    "\n",
    "# Creating an object of ElectricCar (Hybrid Inheritance)\n",
    "electric_car = ElectricCar(\"Tesla\", \"Model S\", 2022, 100)\n",
    "electric_car.display_info()\n"
   ]
  },
  {
   "cell_type": "markdown",
   "id": "ad670c7b-9b74-4dca-90a6-983838d0818c",
   "metadata": {},
   "source": [
    "# 4. Polymorphism\n",
    "\n",
    "Polymorphism allows different classes to have methods with the same name, but the method can act differently depending on the object that calls it\n",
    "\n",
    "### 4.1. Compile-time Polymorphism (Method Overloading)\n",
    "In traditional OOP languages, method overloading refers to defining multiple methods with the same name but different parameters. However, Python does not support method overloading explicitly, as it allows default arguments or variable-length argument lists to achieve similar behavior."
   ]
  },
  {
   "cell_type": "code",
   "execution_count": 16,
   "id": "f5380700-fdda-4ce6-a54e-bacd1aaf21b3",
   "metadata": {},
   "outputs": [
    {
     "name": "stdout",
     "output_type": "stream",
     "text": [
      "Car: 2020 Honda Civic\n",
      "Car: 2022 Tesla Model S with speed 150 km/h\n"
     ]
    }
   ],
   "source": [
    "class Car:\n",
    "    def __init__(self, company, model, year):\n",
    "        self.company = company\n",
    "        self.model = model\n",
    "        self.year = year\n",
    "\n",
    "    def display_info(self, speed=None):\n",
    "        if speed:\n",
    "            print(f\"Car: {self.year} {self.company} {self.model} with speed {speed} km/h\")\n",
    "        else:\n",
    "            print(f\"Car: {self.year} {self.company} {self.model}\")\n",
    "\n",
    "\n",
    "# Creating objects of Car (Method Overloading with Default Argument)\n",
    "car1 = Car(\"Honda\", \"Civic\", 2020)\n",
    "car1.display_info()\n",
    "\n",
    "car2 = Car(\"Tesla\", \"Model S\", 2022)\n",
    "car2.display_info(150)\n"
   ]
  },
  {
   "cell_type": "markdown",
   "id": "fce53c19-d03d-4992-9b61-ad1fa3762a37",
   "metadata": {},
   "source": [
    "### 4.2. Runtime Polymorphism (Method Overriding)\n",
    "Runtime polymorphism, or method overriding, occurs when a subclass provides a specific implementation of a method that is already defined in its parent class. This allows a subclass to define its own behavior while retaining the method signature"
   ]
  },
  {
   "cell_type": "code",
   "execution_count": 18,
   "id": "eae4ead4-27a1-49a4-b6de-d5e7a9c28c98",
   "metadata": {},
   "outputs": [
    {
     "name": "stdout",
     "output_type": "stream",
     "text": [
      "Car: 2020 Honda Civic\n",
      "Sports Car: 2020 Ferrari 488, Top Speed: 340 km/h\n",
      "Electric Car: 2022 Tesla Model S, Battery Capacity: 100 kWh\n"
     ]
    }
   ],
   "source": [
    "class Car:\n",
    "    def __init__(self, company, model, year):\n",
    "        self.company = company\n",
    "        self.model = model\n",
    "        self.year = year\n",
    "\n",
    "    def display_info(self):\n",
    "        print(f\"Car: {self.year} {self.company} {self.model}\")\n",
    "\n",
    "\n",
    "class SportsCar(Car):\n",
    "    def __init__(self, company, model, year, top_speed):\n",
    "        super().__init__(company, model, year)\n",
    "        self.top_speed = top_speed\n",
    "\n",
    "    def display_info(self):\n",
    "        # Overriding display_info method\n",
    "        print(f\"Sports Car: {self.year} {self.company} {self.model}, Top Speed: {self.top_speed} km/h\")\n",
    "\n",
    "\n",
    "class ElectricCar(Car):\n",
    "    def __init__(self, company, model, year, battery_capacity):\n",
    "        super().__init__(company, model, year)\n",
    "        self.battery_capacity = battery_capacity\n",
    "\n",
    "    def display_info(self):\n",
    "        # Overriding display_info method\n",
    "        print(f\"Electric Car: {self.year} {self.company} {self.model}, Battery Capacity: {self.battery_capacity} kWh\")\n",
    "\n",
    "\n",
    "# Creating objects of different classes (Method Overriding)\n",
    "car1 = Car(\"Honda\", \"Civic\", 2020)\n",
    "sports_car = SportsCar(\"Ferrari\", \"488\", 2020, 340)\n",
    "electric_car = ElectricCar(\"Tesla\", \"Model S\", 2022, 100)\n",
    "\n",
    "car1.display_info()  # Calls Car's display_info method\n",
    "sports_car.display_info()  # Calls SportsCar's overridden display_info method\n",
    "electric_car.display_info()  # Calls ElectricCar's overridden display_info method\n"
   ]
  },
  {
   "cell_type": "markdown",
   "id": "cf466133-e29d-4a1f-8864-dc41ea902ec4",
   "metadata": {},
   "source": [
    "# 5. Abstraction\n",
    "\n",
    "Abstraction is the process of hiding the complex implementation details and showing only the essential features"
   ]
  },
  {
   "cell_type": "code",
   "execution_count": 20,
   "id": "d46766b4-bb8e-4986-9099-a02b65407da3",
   "metadata": {},
   "outputs": [
    {
     "name": "stdout",
     "output_type": "stream",
     "text": [
      "Can't instantiate abstract class Car with abstract method display_info\n",
      "Sedan car details\n",
      "Can't instantiate abstract class SUV with abstract method display_info\n"
     ]
    }
   ],
   "source": [
    "from abc import ABC, abstractmethod\n",
    "\n",
    "\n",
    "class Car(ABC):\n",
    "\n",
    "    @abstractmethod\n",
    "    def display_info(self):\n",
    "        pass\n",
    "\n",
    "\n",
    "class Sedan(Car):\n",
    "\n",
    "    def display_info(self):\n",
    "        print(\"Sedan car details\")\n",
    "\n",
    "\n",
    "class SUV(Car):\n",
    "\n",
    "    def other_attributes(self):\n",
    "        pass\n",
    "\n",
    "\n",
    "# Creating objects\n",
    "try:\n",
    "    car = Car()\n",
    "except Exception as e:\n",
    "    print(e)\n",
    "\n",
    "sedan = Sedan()\n",
    "sedan.display_info()  # Output: Sedan car details\n",
    "\n",
    "try:\n",
    "    suv = SUV()\n",
    "except Exception as e:\n",
    "    print(e)\n"
   ]
  },
  {
   "cell_type": "code",
   "execution_count": null,
   "id": "ffa5d035-c892-4a36-b0b4-ef798b50cd08",
   "metadata": {},
   "outputs": [],
   "source": []
  }
 ],
 "metadata": {
  "kernelspec": {
   "display_name": "Python 3 (ipykernel)",
   "language": "python",
   "name": "python3"
  },
  "language_info": {
   "codemirror_mode": {
    "name": "ipython",
    "version": 3
   },
   "file_extension": ".py",
   "mimetype": "text/x-python",
   "name": "python",
   "nbconvert_exporter": "python",
   "pygments_lexer": "ipython3",
   "version": "3.10.14"
  }
 },
 "nbformat": 4,
 "nbformat_minor": 5
}
