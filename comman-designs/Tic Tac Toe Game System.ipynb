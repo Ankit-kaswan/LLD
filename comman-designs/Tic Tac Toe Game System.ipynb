{
 "cells": [
  {
   "cell_type": "markdown",
   "id": "f543aa6b-db86-4f65-b405-f6d3d81f1728",
   "metadata": {},
   "source": [
    "# Low-Level Design (LLD) of a Tic Tac Toe Game System"
   ]
  },
  {
   "cell_type": "markdown",
   "id": "44e3bf83-23d8-449d-822e-b81462cf40d3",
   "metadata": {},
   "source": [
    "### 1. Requirements\n",
    "\n",
    "1. **Game Mechanics**:\n",
    "    - The game should allow two players to take turns marking a 3x3 grid with either 'X' or 'O' until a player wins or the board fills up (resulting in a draw).\n",
    "\n",
    "2. **Player Turn Handling**:\n",
    "    - The game should alternate between two players (Player 1 and Player 2).\n",
    "\n",
    "3. **Game End:**:\n",
    "    - The game ends when one player wins or when the board is full (draw).\n",
    "\n",
    "4. **Board Display**:\n",
    "    - The board should be printed after every move to show the current state.\n",
    "\n",
    "5. **Winning Conditions**:\n",
    "    - The game should check for win conditions after every move.\n",
    "\n",
    "6. **Restart Game**:\n",
    "    - Option to restart the game after a match is over.\n",
    "    \n",
    "---\n",
    "\n",
    "### 2. Constraints\n",
    "\n",
    "1. The game must operate on a 3x3 grid\n",
    "2. Players must alternate turns, starting with Player 1 ('X').\n",
    "3. Players can only place their mark on empty spots on the board.\n",
    "4. No option to undo a move once made.\n",
    "5. There are a maximum of 9 moves in total before a draw condition.\n",
    "\n",
    "---\n",
    "\n",
    "### 3. Identify Entities\n",
    "\n",
    "1. **Game**:\n",
    "    - Represents the entire game, including managing turns, checking for a win, and displaying the board.\n",
    "    - Coordinates between the Player, Board, and Game Logic.\n",
    "\n",
    "2. **Player**:\n",
    "    - Represents a player (either Player 1 or Player 2) with attributes like name and symbol ('X' or 'O').\n",
    "    - Responsible for making moves on the board.\n",
    "\n",
    "3. **Board**:\n",
    "    - Manages the game board and its current state.\n",
    "    - Handles the placement of marks on the grid and checks the game state.\n",
    "\n",
    "4. **GameLogic**:\n",
    "    - Contains the rules and logic for checking win conditions, draw conditions, and determining whose turn it is.\n",
    "\n",
    "5. **UserInterface**:\n",
    "    - Handles displaying the game board, taking player input, and showing game status messages (e.g., \"Player X wins!\", \"It's a draw\")."
   ]
  },
  {
   "cell_type": "markdown",
   "id": "2d43098e-2b80-490d-9114-896c437844da",
   "metadata": {},
   "source": [
    "### 4. Class Design"
   ]
  },
  {
   "cell_type": "raw",
   "id": "f502f8d4-73b5-4a32-a856-f28139c2220c",
   "metadata": {},
   "source": [
    "+------------------+\n",
    "|      Player      |\n",
    "|------------------|\n",
    "| - name: str     |\n",
    "| - symbol: str   |\n",
    "| - player_id: int|\n",
    "|------------------|\n",
    "| + make_move()   |\n",
    "+------------------+\n",
    "\n",
    "          |\n",
    "          | 1\n",
    "          |    \n",
    "          v\n",
    "+------------------+\n",
    "|      Game        |\n",
    "|------------------|\n",
    "| - players: list  |\n",
    "| - board: Board   |\n",
    "| - current_player: Player |\n",
    "|------------------|\n",
    "| + start_game()   |\n",
    "| + switch_turn()  |\n",
    "| + check_winner() |\n",
    "+------------------+\n",
    "\n",
    "          |\n",
    "          | 1\n",
    "          |    \n",
    "          v\n",
    "+------------------+\n",
    "|      Board       |\n",
    "|------------------|\n",
    "| - grid: list     |\n",
    "| - size: int      |\n",
    "|------------------|\n",
    "| + display_board()|\n",
    "| + is_valid_move()|\n",
    "| + check_winner() |\n",
    "+------------------+\n",
    "\n",
    "          |\n",
    "          | 1\n",
    "          |    \n",
    "          v\n",
    "+------------------+\n",
    "|   GameManager    |\n",
    "|------------------|\n",
    "| - games: list    |\n",
    "|------------------|\n",
    "| + create_game()  |\n",
    "| + list_games()   |\n",
    "+------------------+\n"
   ]
  },
  {
   "cell_type": "markdown",
   "id": "68c751e3-e5f7-417d-90bb-db6c7b94ba65",
   "metadata": {},
   "source": [
    "#### 4.1. Player"
   ]
  },
  {
   "cell_type": "code",
   "execution_count": 5,
   "id": "46f8f75b-1cd5-4681-8e07-7ad9f1c3b040",
   "metadata": {},
   "outputs": [],
   "source": [
    "class Player:\n",
    "    def __init__(self, name: str, symbol: str, player_id: int):\n",
    "        self.name = name\n",
    "        self.symbol = symbol\n",
    "        self.player_id = player_id\n",
    "\n",
    "    def make_move(self, board, row: int, col: int):\n",
    "        if board.is_valid_move(row, col):\n",
    "            board.grid[row][col] = self.symbol\n",
    "            return True"
   ]
  },
  {
   "cell_type": "markdown",
   "id": "9b2b4b38-57de-4037-9701-1785ef01b073",
   "metadata": {},
   "source": [
    "#### 4.2. Board"
   ]
  },
  {
   "cell_type": "code",
   "execution_count": 7,
   "id": "f8dc3be0-08bd-4427-a14b-c8c85708ef76",
   "metadata": {},
   "outputs": [],
   "source": [
    "class Board:\n",
    "    def __init__(self, size: int = 3):\n",
    "        self.size = size\n",
    "        self.grid = [[' ' for _ in range(size)] for _ in range(size)]\n",
    "\n",
    "    def display_board(self):\n",
    "        for row in self.grid:\n",
    "            print('|'.join(row))\n",
    "            print('-' * (self.size * 2 - 1))\n",
    "\n",
    "    def is_valid_move(self, row: int, col: int) -> bool:\n",
    "        if not (0 <= row < self.size and 0 <= col < self.size):\n",
    "            raise OutOfBoundsException()\n",
    "\n",
    "        if self.grid[row][col] == ' ':\n",
    "            return True\n",
    "\n",
    "        raise InvalidMoveException()\n",
    "\n",
    "    def check_winner(self):\n",
    "        # Check rows and columns\n",
    "        for i in range(self.size):\n",
    "            if all(self.grid[i][0] == self.grid[i][j] != ' ' for j in range(self.size)):\n",
    "                return self.grid[i][0]\n",
    "\n",
    "            if all(self.grid[0][i] == self.grid[j][i] != ' ' for j in range(self.size)):\n",
    "                return self.grid[0][i]\n",
    "\n",
    "        # Check diagonals\n",
    "        if all(self.grid[i][i] == self.grid[0][0] != ' ' for i in range(self.size)):\n",
    "            return self.grid[0][0]\n",
    "\n",
    "        if all(self.grid[i][self.size - i - 1] == self.grid[0][self.size - 1] != ' ' for i in range(self.size)):\n",
    "            return self.grid[0][self.size - 1]\n",
    "\n",
    "        return None  # No winner yet\n",
    "\n",
    "    def is_full(self):\n",
    "        return all(cell != ' ' for row in self.grid for cell in row)\n",
    "\n",
    "    def reset_board(self):\n",
    "        self.grid = [[' ' for _ in range(self.size)] for _ in range(self.size)]"
   ]
  },
  {
   "cell_type": "markdown",
   "id": "d22cc066-2e62-46a6-9a22-3eec5e7d89ea",
   "metadata": {},
   "source": [
    "#### 4.3. Game Class"
   ]
  },
  {
   "cell_type": "code",
   "execution_count": 9,
   "id": "50324bbf-c280-4b26-aec0-da17c89e2563",
   "metadata": {},
   "outputs": [],
   "source": [
    "class Game:\n",
    "    def __init__(self, player1: Player, player2: Player, size: int = 3):\n",
    "        self.players = [player1, player2]\n",
    "        self.board = Board(size)\n",
    "        self.current_player = player1\n",
    "        self.game_over = False\n",
    "\n",
    "    def switch_turn(self):\n",
    "        self.current_player = self.players[1] if self.current_player == self.players[0] else self.players[0]\n",
    "\n",
    "    def restart_game(self):\n",
    "        self.board.reset_board()\n",
    "        self.current_player = self.players[0]\n",
    "        self.game_over = False\n",
    "        print(\"\\nGame restarted!\\n\")\n",
    "        self.start_game()\n",
    "\n",
    "    def start_game(self):\n",
    "        while not self.game_over:\n",
    "            self.board.display_board()\n",
    "            try:\n",
    "                row, col = map(int, input(f\"{self.current_player.name} ({self.current_player.symbol}), enter row and col: \").split(','))\n",
    "\n",
    "                if self.game_over:\n",
    "                    raise GameOverException()\n",
    "\n",
    "                self.current_player.make_move(self.board, row, col)\n",
    "                winner = self.board.check_winner()\n",
    "\n",
    "                if winner:\n",
    "                    self.board.display_board()\n",
    "                    print(f\"🎉 {self.current_player.name} ({winner}) wins! 🎉\")\n",
    "                    self.game_over = True\n",
    "                elif self.board.is_full():\n",
    "                    self.board.display_board()\n",
    "                    print(\"🤝 It's a draw! 🤝\")\n",
    "                    self.game_over = True\n",
    "                else:\n",
    "                    self.switch_turn()\n",
    "            except (InvalidMoveException, OutOfBoundsException, ValueError) as e:\n",
    "                print(e)\n",
    "\n",
    "        # Now, ask if players want to restart\n",
    "        self.ask_restart()\n",
    "\n",
    "    def ask_restart(self):\n",
    "        while True:\n",
    "            choice = input(\"🔄 Do you want to restart the game? (yes/no): \").strip().lower()\n",
    "            if choice in ['yes', 'y']:\n",
    "                self.restart_game()\n",
    "                break\n",
    "            elif choice in ['no', 'n']:\n",
    "                print(\"👋 Thank you for playing! Goodbye!\")\n",
    "                break\n",
    "            else:\n",
    "                print(\"❌ Invalid input. Please enter 'yes' or 'no'.\")"
   ]
  },
  {
   "cell_type": "markdown",
   "id": "3fea1c40-1056-451f-a057-112c99f42a4a",
   "metadata": {},
   "source": [
    "#### 4.4. GameManager Class"
   ]
  },
  {
   "cell_type": "code",
   "execution_count": 11,
   "id": "5a6f0410-d7d1-4a65-84c9-d80eee0ce7cc",
   "metadata": {},
   "outputs": [],
   "source": [
    "class GameManager:\n",
    "    def __init__(self):\n",
    "        self.games = []\n",
    "\n",
    "    def create_game(self, player1_name, player2_name):\n",
    "        player1 = Player(player1_name, 'X', 1)\n",
    "        player2 = Player(player2_name, 'O', 2)\n",
    "        game = Game(player1, player2)\n",
    "        self.games.append(game)\n",
    "        return game\n",
    "\n",
    "    def list_games(self):\n",
    "        return [f\"Game {i+1}: {game.players[0].name} vs {game.players[1].name}\" for i, game in enumerate(self.games)]"
   ]
  },
  {
   "cell_type": "markdown",
   "id": "710655da-7f7a-48ff-b183-9163c9874423",
   "metadata": {},
   "source": [
    "#### 5. Exception Handling"
   ]
  },
  {
   "cell_type": "code",
   "execution_count": 13,
   "id": "76d18195-b105-4854-95a6-859ca0f999a1",
   "metadata": {},
   "outputs": [],
   "source": [
    "class TicTacToeException(Exception):\n",
    "    \"\"\"Base Exception class for Tic Tac Toe.\"\"\"\n",
    "    pass\n",
    "\n",
    "\n",
    "class InvalidMoveException(TicTacToeException):\n",
    "\n",
    "    def __init__(self, message=\"Invalid move! Cell is already occupied or out of bounds.\"):\n",
    "        super().__init__(message)\n",
    "\n",
    "\n",
    "class OutOfBoundsException(TicTacToeException):\n",
    "\n",
    "    def __init__(self, message=\"Move out of bounds! Please enter a valid row and column.\"):\n",
    "        super().__init__(message)\n",
    "\n",
    "\n",
    "class GameOverException(TicTacToeException):\n",
    "\n",
    "    def __init__(self, message=\"Game is already over! No more moves allowed.\"):\n",
    "        super().__init__(message)"
   ]
  },
  {
   "cell_type": "markdown",
   "id": "ffd98894-6869-4180-8006-497fe6f89ae4",
   "metadata": {},
   "source": [
    "#### 6. Implementation"
   ]
  },
  {
   "cell_type": "code",
   "execution_count": 15,
   "id": "68c822a3-f6c0-4354-85c1-35d3e78ce44c",
   "metadata": {},
   "outputs": [
    {
     "name": "stdout",
     "output_type": "stream",
     "text": [
      " | | \n",
      "-----\n",
      " | | \n",
      "-----\n",
      " | | \n",
      "-----\n"
     ]
    },
    {
     "name": "stdin",
     "output_type": "stream",
     "text": [
      "Alice (X), enter row and col:  0,0\n"
     ]
    },
    {
     "name": "stdout",
     "output_type": "stream",
     "text": [
      "X| | \n",
      "-----\n",
      " | | \n",
      "-----\n",
      " | | \n",
      "-----\n"
     ]
    },
    {
     "name": "stdin",
     "output_type": "stream",
     "text": [
      "Bob (O), enter row and col:  1,1\n"
     ]
    },
    {
     "name": "stdout",
     "output_type": "stream",
     "text": [
      "X| | \n",
      "-----\n",
      " |O| \n",
      "-----\n",
      " | | \n",
      "-----\n"
     ]
    },
    {
     "name": "stdin",
     "output_type": "stream",
     "text": [
      "Alice (X), enter row and col:  0,1\n"
     ]
    },
    {
     "name": "stdout",
     "output_type": "stream",
     "text": [
      "X|X| \n",
      "-----\n",
      " |O| \n",
      "-----\n",
      " | | \n",
      "-----\n"
     ]
    },
    {
     "name": "stdin",
     "output_type": "stream",
     "text": [
      "Bob (O), enter row and col:  1,0\n"
     ]
    },
    {
     "name": "stdout",
     "output_type": "stream",
     "text": [
      "X|X| \n",
      "-----\n",
      "O|O| \n",
      "-----\n",
      " | | \n",
      "-----\n"
     ]
    },
    {
     "name": "stdin",
     "output_type": "stream",
     "text": [
      "Alice (X), enter row and col:  1,2\n"
     ]
    },
    {
     "name": "stdout",
     "output_type": "stream",
     "text": [
      "X|X| \n",
      "-----\n",
      "O|O|X\n",
      "-----\n",
      " | | \n",
      "-----\n"
     ]
    },
    {
     "name": "stdin",
     "output_type": "stream",
     "text": [
      "Bob (O), enter row and col:  0,2\n"
     ]
    },
    {
     "name": "stdout",
     "output_type": "stream",
     "text": [
      "X|X|O\n",
      "-----\n",
      "O|O|X\n",
      "-----\n",
      " | | \n",
      "-----\n"
     ]
    },
    {
     "name": "stdin",
     "output_type": "stream",
     "text": [
      "Alice (X), enter row and col:  2,0\n"
     ]
    },
    {
     "name": "stdout",
     "output_type": "stream",
     "text": [
      "X|X|O\n",
      "-----\n",
      "O|O|X\n",
      "-----\n",
      "X| | \n",
      "-----\n"
     ]
    },
    {
     "name": "stdin",
     "output_type": "stream",
     "text": [
      "Bob (O), enter row and col:  1,2\n"
     ]
    },
    {
     "name": "stdout",
     "output_type": "stream",
     "text": [
      "Invalid move! Cell is already occupied or out of bounds.\n",
      "X|X|O\n",
      "-----\n",
      "O|O|X\n",
      "-----\n",
      "X| | \n",
      "-----\n"
     ]
    },
    {
     "name": "stdin",
     "output_type": "stream",
     "text": [
      "Bob (O), enter row and col:  2,1\n"
     ]
    },
    {
     "name": "stdout",
     "output_type": "stream",
     "text": [
      "X|X|O\n",
      "-----\n",
      "O|O|X\n",
      "-----\n",
      "X|O| \n",
      "-----\n"
     ]
    },
    {
     "name": "stdin",
     "output_type": "stream",
     "text": [
      "Alice (X), enter row and col:  2,2\n"
     ]
    },
    {
     "name": "stdout",
     "output_type": "stream",
     "text": [
      "X|X|O\n",
      "-----\n",
      "O|O|X\n",
      "-----\n",
      "X|O|X\n",
      "-----\n",
      "🤝 It's a draw! 🤝\n"
     ]
    },
    {
     "name": "stdin",
     "output_type": "stream",
     "text": [
      "🔄 Do you want to restart the game? (yes/no):  yes\n"
     ]
    },
    {
     "name": "stdout",
     "output_type": "stream",
     "text": [
      "\n",
      "Game restarted!\n",
      "\n",
      " | | \n",
      "-----\n",
      " | | \n",
      "-----\n",
      " | | \n",
      "-----\n"
     ]
    },
    {
     "name": "stdin",
     "output_type": "stream",
     "text": [
      "Alice (X), enter row and col:  0,0\n"
     ]
    },
    {
     "name": "stdout",
     "output_type": "stream",
     "text": [
      "X| | \n",
      "-----\n",
      " | | \n",
      "-----\n",
      " | | \n",
      "-----\n"
     ]
    },
    {
     "name": "stdin",
     "output_type": "stream",
     "text": [
      "Bob (O), enter row and col:  1,1\n"
     ]
    },
    {
     "name": "stdout",
     "output_type": "stream",
     "text": [
      "X| | \n",
      "-----\n",
      " |O| \n",
      "-----\n",
      " | | \n",
      "-----\n"
     ]
    },
    {
     "name": "stdin",
     "output_type": "stream",
     "text": [
      "Alice (X), enter row and col:  0,2\n"
     ]
    },
    {
     "name": "stdout",
     "output_type": "stream",
     "text": [
      "X| |X\n",
      "-----\n",
      " |O| \n",
      "-----\n",
      " | | \n",
      "-----\n"
     ]
    },
    {
     "name": "stdin",
     "output_type": "stream",
     "text": [
      "Bob (O), enter row and col:  0,1\n"
     ]
    },
    {
     "name": "stdout",
     "output_type": "stream",
     "text": [
      "X|O|X\n",
      "-----\n",
      " |O| \n",
      "-----\n",
      " | | \n",
      "-----\n"
     ]
    },
    {
     "name": "stdin",
     "output_type": "stream",
     "text": [
      "Alice (X), enter row and col:  1,0\n"
     ]
    },
    {
     "name": "stdout",
     "output_type": "stream",
     "text": [
      "X|O|X\n",
      "-----\n",
      "X|O| \n",
      "-----\n",
      " | | \n",
      "-----\n"
     ]
    },
    {
     "name": "stdin",
     "output_type": "stream",
     "text": [
      "Bob (O), enter row and col:  1,2\n"
     ]
    },
    {
     "name": "stdout",
     "output_type": "stream",
     "text": [
      "X|O|X\n",
      "-----\n",
      "X|O|O\n",
      "-----\n",
      " | | \n",
      "-----\n"
     ]
    },
    {
     "name": "stdin",
     "output_type": "stream",
     "text": [
      "Alice (X), enter row and col:  2,0\n"
     ]
    },
    {
     "name": "stdout",
     "output_type": "stream",
     "text": [
      "X|O|X\n",
      "-----\n",
      "X|O|O\n",
      "-----\n",
      "X| | \n",
      "-----\n",
      "🎉 Alice (X) wins! 🎉\n"
     ]
    },
    {
     "name": "stdin",
     "output_type": "stream",
     "text": [
      "🔄 Do you want to restart the game? (yes/no):  no\n"
     ]
    },
    {
     "name": "stdout",
     "output_type": "stream",
     "text": [
      "👋 Thank you for playing! Goodbye!\n"
     ]
    }
   ],
   "source": [
    "if __name__ == \"__main__\":\n",
    "    manager = GameManager()\n",
    "    game = manager.create_game(\"Alice\", \"Bob\")\n",
    "    game.start_game()\n"
   ]
  },
  {
   "cell_type": "code",
   "execution_count": null,
   "id": "3c04c6cf-a863-431b-9358-26da2147e79c",
   "metadata": {},
   "outputs": [],
   "source": []
  }
 ],
 "metadata": {
  "kernelspec": {
   "display_name": "Python 3 (ipykernel)",
   "language": "python",
   "name": "python3"
  },
  "language_info": {
   "codemirror_mode": {
    "name": "ipython",
    "version": 3
   },
   "file_extension": ".py",
   "mimetype": "text/x-python",
   "name": "python",
   "nbconvert_exporter": "python",
   "pygments_lexer": "ipython3",
   "version": "3.10.14"
  }
 },
 "nbformat": 4,
 "nbformat_minor": 5
}
