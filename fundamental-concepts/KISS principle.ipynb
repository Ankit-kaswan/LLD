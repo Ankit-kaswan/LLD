{
 "cells": [
  {
   "cell_type": "markdown",
   "id": "7fb5fb73-c743-4b22-8b67-a62f372dae7b",
   "metadata": {},
   "source": [
    "# KISS Principle: \"Keep It Simple, Stupid\"\n",
    "\n",
    "It suggests that systems should be as simple as possible, avoiding unnecessary complexity\n",
    "\n",
    "### Why Follow the KISS Principle?\n",
    "- Easier Maintenance: Simple designs and code are easier to debug, test, and update.\n",
    "- Better Performance: Unnecessary complexity can introduce inefficiencies.\n",
    "- Improved Collaboration: Simpler code is easier for team members to understand and contribute to.\n",
    "- Reduced Errors: Complex systems are more prone to bugs and errors.\n",
    "- Faster Development: Simplicity allows for quicker implementation and iteration."
   ]
  },
  {
   "cell_type": "markdown",
   "id": "8e12bfe7-2343-4bf2-a025-24054a6a9a17",
   "metadata": {},
   "source": [
    "## Example 1: Over-Complicated Logic"
   ]
  },
  {
   "cell_type": "code",
   "execution_count": 3,
   "id": "b0b27b12-7ba5-49a9-b369-5f53551f0b33",
   "metadata": {},
   "outputs": [],
   "source": [
    "# Violating KISS\n",
    "\n",
    "def calculate_discount(price, discount_type):\n",
    "    if discount_type == \"fixed\":\n",
    "        return price - 10\n",
    "    elif discount_type == \"percentage\":\n",
    "        return price - (price * 0.1)\n",
    "    elif discount_type == \"premium_fixed\":\n",
    "        return price - 20\n",
    "    elif discount_type == \"premium_percentage\":\n",
    "        return price - (price * 0.2)\n",
    "    else:\n",
    "        raise ValueError(\"Invalid discount type\")\n"
   ]
  },
  {
   "cell_type": "code",
   "execution_count": 4,
   "id": "52cef7eb-9c1a-4a0f-b71a-6180ee823a50",
   "metadata": {},
   "outputs": [],
   "source": [
    "# Follwing KISS\n",
    "\n",
    "def calculate_discount(price, discount_value):\n",
    "    return price - discount_value\n"
   ]
  },
  {
   "cell_type": "markdown",
   "id": "7879da79-db4e-4fe4-afa8-f51e247d9a6c",
   "metadata": {},
   "source": [
    "## Example 2: Over-Complicated Class Design"
   ]
  },
  {
   "cell_type": "code",
   "execution_count": 6,
   "id": "81c54657-bfd3-4883-b8f9-f36d9c2c1500",
   "metadata": {},
   "outputs": [],
   "source": [
    "# Violating KISS\n",
    "\n",
    "class Vehicle:\n",
    "    def __init__(self, type, fuel_type, max_speed):\n",
    "        self.type = type\n",
    "        self.fuel_type = fuel_type\n",
    "        self.max_speed = max_speed\n",
    "\n",
    "    def start_engine(self):\n",
    "        if self.type == \"car\":\n",
    "            print(\"Starting car engine\")\n",
    "        elif self.type == \"bike\":\n",
    "            print(\"Starting bike engine\")\n",
    "        elif self.type == \"truck\":\n",
    "            print(\"Starting truck engine\")\n"
   ]
  },
  {
   "cell_type": "code",
   "execution_count": 7,
   "id": "23a3c547-8fd3-476a-b886-13d9912dea99",
   "metadata": {},
   "outputs": [],
   "source": [
    "# Follwing KISS\n",
    "\n",
    "class Vehicle:\n",
    "    def __init__(self, max_speed):\n",
    "        self.max_speed = max_speed\n",
    "\n",
    "    def start_engine(self):\n",
    "        print(\"Starting engine\")\n",
    "\n",
    "\n",
    "class Car(Vehicle):\n",
    "    def start_engine(self):\n",
    "        print(\"Starting car engine\")\n",
    "\n",
    "\n",
    "class Bike(Vehicle):\n",
    "    def start_engine(self):\n",
    "        print(\"Starting bike engine\")\n"
   ]
  },
  {
   "cell_type": "code",
   "execution_count": null,
   "id": "16723f1c-ef5a-4733-bd73-060cde4696c5",
   "metadata": {},
   "outputs": [],
   "source": []
  }
 ],
 "metadata": {
  "kernelspec": {
   "display_name": "Python 3 (ipykernel)",
   "language": "python",
   "name": "python3"
  },
  "language_info": {
   "codemirror_mode": {
    "name": "ipython",
    "version": 3
   },
   "file_extension": ".py",
   "mimetype": "text/x-python",
   "name": "python",
   "nbconvert_exporter": "python",
   "pygments_lexer": "ipython3",
   "version": "3.10.14"
  }
 },
 "nbformat": 4,
 "nbformat_minor": 5
}
