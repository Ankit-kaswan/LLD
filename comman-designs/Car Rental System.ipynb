{
 "cells": [
  {
   "cell_type": "markdown",
   "id": "fbb4c74c-40a4-480d-9b1d-c1ef36f5a1db",
   "metadata": {},
   "source": [
    "# Low-Level Design (LLD) of a Car Rental System"
   ]
  },
  {
   "cell_type": "markdown",
   "id": "02a7e41d-1466-441a-823b-27654035a62f",
   "metadata": {},
   "source": [
    "### 1. Requirements\n",
    "\n",
    "1. **Renting a Car**:\n",
    "    - The system should allow users to rent a car based on availability, vehicle type, rental duration, and other rental attributes\n",
    "\n",
    "2. **Returning a Car**:\n",
    "    - The system should allow users to return the rented car, calculate rental fees, and mark the car as available again.\n",
    "\n",
    "3. **Car Availability:**:\n",
    "    - Track the availability of cars in the system based on their current rental status.\n",
    "\n",
    "4. **Car Reservation**:\n",
    "    - Allow users to reserve a car for a specific time and date.\n",
    "\n",
    "5. **Rental Fees**:\n",
    "    - The rental fee should be calculated based on the car's rental duration, type.\n",
    "\n",
    "6. **Customer Management**:\n",
    "    - The system should allow the creation of customer profiles with personal details, rental history, etc\n",
    "\n",
    "7. **Multiple Car Types**:\n",
    "    - Support for different types of cars (e.g., sedan, SUV, convertible, etc.) and unique rates for each type.\n",
    "\n",
    "---\n",
    "\n",
    "### 2. Constraints\n",
    "\n",
    "1. The system should handle multiple car types (e.g., sedan, SUV, etc.) and calculate different rental rates accordingly\n",
    "2. The system should check car availability in real-time and prevent double bookings\n",
    "3. There should be a maximum rental duration for each car.\n",
    "4. The system must track all rented cars and maintain rental history.\n",
    "\n",
    "---\n",
    "\n",
    "### 3. Identify Entities\n",
    "\n",
    "1. **Car**:\n",
    "    - Represents a car with attributes such as ID, type (sedan, SUV, etc.), availability status, and rental details.\n",
    "\n",
    "2. **Customer**:\n",
    "    - Represents a customer who rents the car, with personal details and rental history.\n",
    "\n",
    "3. **RentalAgreement**:\n",
    "    - Represents a rental agreement between the customer and the rental company. It holds the details of the rental duration, rental fee, and the car.\n",
    "\n",
    "4. **RentalFeeCalculator**:\n",
    "    - Responsible for calculating the rental fee based on car type, rental duration, and any additional services\n",
    "\n",
    "5. **Reservation**:\n",
    "    - Represents a reservation made by the customer for a car. It includes details like reservation time, car, and customer.\n",
    "\n",
    "6. **CarRentalSystem**:\n",
    "    - Manages the car rental process, including adding cars, renting cars, handling reservations, and calculating rental fees"
   ]
  },
  {
   "cell_type": "markdown",
   "id": "bb33c3ea-1e3b-4279-b142-134f7776442a",
   "metadata": {},
   "source": [
    "### 4. Class Design"
   ]
  },
  {
   "cell_type": "raw",
   "id": "9d3007a5-c624-4265-bd9a-f31f6ac1fca1",
   "metadata": {},
   "source": [
    "+---------------------+      +-------------------+      +-------------------+\n",
    "|       Car           |<---->| RentalAgreement   |<---->| RentalFeeCalculator |\n",
    "+---------------------+      +-------------------+      +-------------------+\n",
    "| - car_id            |      | - start_time      |      | + calculate_fee()  |\n",
    "| - car_type          |      | - end_time        |      +-------------------+\n",
    "| - is_available      |      | - car             |\n",
    "| - rental_price      |      | - customer        |\n",
    "+---------------------+      | - total_fee       |\n",
    "                             +-------------------+\n",
    "                                      ^\n",
    "                                      |\n",
    "                                      v\n",
    "                        +--------------------------+\n",
    "                        |     Customer             |\n",
    "                        +--------------------------+\n",
    "                        | - customer_id            |\n",
    "                        | - name                   |\n",
    "                        | - address                |\n",
    "                        | - rental_history         |\n",
    "                        +--------------------------+\n",
    "                                      ^\n",
    "                                      |\n",
    "                                      v\n",
    "                        +--------------------------+\n",
    "                        |      Reservation         |\n",
    "                        +--------------------------+\n",
    "                        | - reservation_id         |\n",
    "                        | - car                    |\n",
    "                        | - customer               |\n",
    "                        | - reservation_date       |\n",
    "                        +--------------------------+\n",
    "                                      ^\n",
    "                                      |\n",
    "                                      v\n",
    "                        +--------------------------+\n",
    "                        |   CarRentalSystem        |\n",
    "                        +--------------------------+\n",
    "                        | - cars                   |\n",
    "                        | - customers              |\n",
    "                        | + rent_car()             |\n",
    "                        | + return_car()           |\n",
    "                        | + check_availability()   |\n",
    "                        +--------------------------+\n"
   ]
  },
  {
   "cell_type": "markdown",
   "id": "bd14420c-b078-49cb-846f-10e308c6d74f",
   "metadata": {},
   "source": [
    "#### 4.1. Car Class"
   ]
  },
  {
   "cell_type": "code",
   "execution_count": 5,
   "id": "a07bfc0a-8a25-4df1-aace-06c91d583221",
   "metadata": {},
   "outputs": [],
   "source": [
    "class Car:\n",
    "    def __init__(self, car_id, car_type, rental_price):\n",
    "        self.car_id = car_id\n",
    "        self.car_type = car_type\n",
    "        self.is_available = True\n",
    "        self.rental_price = rental_price\n",
    "\n",
    "    def mark_unavailable(self):\n",
    "        self.is_available = False\n",
    "\n",
    "    def mark_available(self):\n",
    "        self.is_available = True\n"
   ]
  },
  {
   "cell_type": "markdown",
   "id": "627c4fb1-2c0a-40dd-ba1b-9af461d53f51",
   "metadata": {},
   "source": [
    "#### 4.2. Customer Class"
   ]
  },
  {
   "cell_type": "code",
   "execution_count": 7,
   "id": "4b2df3df-95f8-455b-b820-9d29c4147815",
   "metadata": {},
   "outputs": [],
   "source": [
    "class Customer:\n",
    "    def __init__(self, customer_id, name, address):\n",
    "        self.customer_id = customer_id\n",
    "        self.name = name\n",
    "        self.address = address\n",
    "        self.rental_history = []\n",
    "\n",
    "    def add_rental_history(self, rental_agreement):\n",
    "        self.rental_history.append(rental_agreement)\n"
   ]
  },
  {
   "cell_type": "markdown",
   "id": "36c20597-9521-4d08-846c-57dc33daf567",
   "metadata": {},
   "source": [
    "#### 4.3. RentalAgreement Class"
   ]
  },
  {
   "cell_type": "code",
   "execution_count": 9,
   "id": "2faff15c-1288-4441-bcca-58852f9cbab0",
   "metadata": {},
   "outputs": [],
   "source": [
    "from datetime import datetime\n",
    "\n",
    "class RentalAgreement:\n",
    "    def __init__(self, car, customer, start_time, end_time):\n",
    "        self.car = car\n",
    "        self.customer = customer\n",
    "        self.start_time = start_time\n",
    "        self.end_time = end_time\n",
    "        self.total_fee = 0\n",
    "\n",
    "    def calculate_total_fee(self, fee_calculator):\n",
    "        self.total_fee = fee_calculator.calculate_fee(self.car, self.start_time, self.end_time)\n"
   ]
  },
  {
   "cell_type": "markdown",
   "id": "a5c327f3-c40f-4dbf-89a1-0e3c59a5d7ed",
   "metadata": {},
   "source": [
    "#### 4.4. RentalFeeCalculator Class"
   ]
  },
  {
   "cell_type": "code",
   "execution_count": 11,
   "id": "444e98f5-5aab-49ea-a1c3-dd39fa43a200",
   "metadata": {},
   "outputs": [],
   "source": [
    "class RentalFeeCalculator:\n",
    "    def calculate_fee(self, car, start_time, end_time):\n",
    "        duration = (end_time - start_time).days  # rental duration in days\n",
    "        rate = self.get_rate(car.car_type)\n",
    "        fee = duration * rate\n",
    "        return fee\n",
    "\n",
    "    def get_rate(self, car_type):\n",
    "        rates = {\n",
    "            \"sedan\": 30,   # per day\n",
    "            \"SUV\": 50,\n",
    "            \"convertible\": 70,\n",
    "        }\n",
    "        return rates.get(car_type, 30)  # default rate for unknown types\n"
   ]
  },
  {
   "cell_type": "markdown",
   "id": "f34bde10-0e55-438d-abbd-cbc6257ff1e1",
   "metadata": {},
   "source": [
    "#### 4.5. Reservation Class"
   ]
  },
  {
   "cell_type": "code",
   "execution_count": 13,
   "id": "fb18ebed-df75-4f14-a59b-dd88d910605f",
   "metadata": {},
   "outputs": [],
   "source": [
    "class Reservation:\n",
    "    def __init__(self, reservation_id, car, customer, reservation_date):\n",
    "        self.reservation_id = reservation_id\n",
    "        self.car = car\n",
    "        self.customer = customer\n",
    "        self.reservation_date = reservation_date\n"
   ]
  },
  {
   "cell_type": "markdown",
   "id": "427c218d-1d7d-428c-8d45-6ea6776f4c13",
   "metadata": {},
   "source": [
    "#### 4.6. CarRentalSystem Class"
   ]
  },
  {
   "cell_type": "code",
   "execution_count": 15,
   "id": "4224b4c0-ed19-41dc-8121-4a2692533a3a",
   "metadata": {},
   "outputs": [],
   "source": [
    "class CarRentalSystem:\n",
    "    def __init__(self):\n",
    "        self.cars = []  # List of all cars\n",
    "        self.customers = []  # List of all customers\n",
    "        self.rentals = []  # List of active rentals\n",
    "\n",
    "    def add_car(self, car):\n",
    "        \"\"\"Add a car to the system.\"\"\"\n",
    "        self.cars.append(car)\n",
    "\n",
    "    def add_customer(self, customer):\n",
    "        \"\"\"Add a customer to the system.\"\"\"\n",
    "        self.customers.append(customer)\n",
    "\n",
    "    def check_availability(self, car_id):\n",
    "        \"\"\"Check if a car is available for rent.\"\"\"\n",
    "        for car in self.cars:\n",
    "            if car.car_id == car_id:\n",
    "                if car.is_available:\n",
    "                    return True\n",
    "                else:\n",
    "                    raise CarNotAvailableException(f\"Car {car_id} is already rented\")\n",
    "\n",
    "        raise CarNotFoundException(f\"Car {car_id} not found\")\n",
    "\n",
    "    def rent_car(self, customer, car_id, start_time, end_time):\n",
    "        \"\"\"Rent a car to a customer.\"\"\"\n",
    "        # Check if customer exists\n",
    "        if customer not in self.customers:\n",
    "            raise CustomerNotFoundException(f\"Customer {customer.customer_id} not found\")\n",
    "        \n",
    "        # Check if car is available\n",
    "        self.check_availability(car_id)\n",
    "        \n",
    "        # Validate rental period\n",
    "        if start_time >= end_time:\n",
    "            raise InvalidRentalPeriodException(\"Start time must be before end time\")\n",
    "        \n",
    "        # Rent the car\n",
    "        car = next(car for car in self.cars if car.car_id == car_id)\n",
    "        car.mark_unavailable()\n",
    "        \n",
    "        rental_agreement = RentalAgreement(car, customer, start_time, end_time)\n",
    "        rental_agreement.calculate_total_fee(RentalFeeCalculator())\n",
    "        \n",
    "        customer.add_rental_history(rental_agreement)\n",
    "        self.rentals.append(rental_agreement)  # Track active rental\n",
    "        return rental_agreement\n",
    "\n",
    "    def return_car(self, rental_agreement):\n",
    "        \"\"\"Return a rented car.\"\"\"\n",
    "        # Check if car is rented\n",
    "        if rental_agreement.car not in [rental.car for rental in self.rentals]:\n",
    "            raise InvalidReturnCarException(f\"Car {rental_agreement.car.car_id} was not rented or already returned\")\n",
    "        \n",
    "        # Mark the car as available\n",
    "        rental_agreement.car.mark_available()\n",
    "        self.rentals.remove(rental_agreement)  # Remove from active rentals\n",
    "        \n",
    "        return rental_agreement.total_fee\n"
   ]
  },
  {
   "cell_type": "markdown",
   "id": "fd21a935-571d-4aaa-9097-4c24e9e7b143",
   "metadata": {},
   "source": [
    "### 5. Exception Handling"
   ]
  },
  {
   "cell_type": "code",
   "execution_count": 17,
   "id": "dc0c3db7-749e-4c75-a3df-fd0edec245af",
   "metadata": {},
   "outputs": [],
   "source": [
    "# Base class for custom exceptions\n",
    "class CarRentalException(Exception):\n",
    "    \"\"\"Base class for all custom exceptions.\"\"\"\n",
    "    pass\n",
    "\n",
    "\n",
    "class CarNotAvailableException(CarRentalException):\n",
    "    \"\"\"Raised when the requested car is not available.\"\"\"\n",
    "    def __init__(self, message=\"Car is not available for rental\"):\n",
    "        self.message = message\n",
    "        super().__init__(self.message)\n",
    "\n",
    "\n",
    "class CarNotFoundException(CarRentalException):\n",
    "    \"\"\"Raised when a car with the specified ID is not found.\"\"\"\n",
    "    def __init__(self, message=\"Car not found in the system\"):\n",
    "        self.message = message\n",
    "        super().__init__(self.message)\n",
    "\n",
    "\n",
    "class CustomerNotFoundException(CarRentalException):\n",
    "    \"\"\"Raised when a customer with the specified ID is not found.\"\"\"\n",
    "    def __init__(self, message=\"Customer not found in the system\"):\n",
    "        self.message = message\n",
    "        super().__init__(self.message)\n",
    "\n",
    "\n",
    "class InvalidReservationException(CarRentalException):\n",
    "    \"\"\"Raised when a customer attempts to rent a car without a valid reservation.\"\"\"\n",
    "    def __init__(self, message=\"Reservation is required to rent a car\"):\n",
    "        self.message = message\n",
    "        super().__init__(self.message)\n",
    "\n",
    "\n",
    "class InvalidRentalPeriodException(CarRentalException):\n",
    "    \"\"\"Raised when the rental period is invalid.\"\"\"\n",
    "    def __init__(self, message=\"Invalid rental period. Please specify a valid duration\"):\n",
    "        self.message = message\n",
    "        super().__init__(self.message)\n",
    "\n",
    "\n",
    "class InvalidReturnCarException(CarRentalException):\n",
    "    \"\"\"Raised when an attempt is made to return a car that wasn't rented.\"\"\"\n",
    "    def __init__(self, message=\"This car was not rented or is already returned\"):\n",
    "        self.message = message\n",
    "        super().__init__(self.message)"
   ]
  },
  {
   "cell_type": "markdown",
   "id": "d3521f73-5016-457c-998d-a61509a65cee",
   "metadata": {},
   "source": [
    "### 6. Implementation"
   ]
  },
  {
   "cell_type": "code",
   "execution_count": 19,
   "id": "5195d0fa-b177-4633-9ed9-c9b52f4b049d",
   "metadata": {},
   "outputs": [
    {
     "name": "stdout",
     "output_type": "stream",
     "text": [
      "Rental fee for car C001 is $150\n",
      "Final fee for car C001 is $150\n",
      "Car C003 not found\n",
      "Customer CUS002 not found\n"
     ]
    }
   ],
   "source": [
    "# Creating car rental system\n",
    "car_rental_system = CarRentalSystem()\n",
    "\n",
    "# Adding cars\n",
    "car1 = Car(\"C001\", \"sedan\", 30)\n",
    "car2 = Car(\"C002\", \"SUV\", 50)\n",
    "car_rental_system.add_car(car1)\n",
    "car_rental_system.add_car(car2)\n",
    "\n",
    "# Creating customers\n",
    "customer1 = Customer(\"CUS001\", \"Alice\", \"123 Main St\")\n",
    "customer2 = Customer(\"CUS002\", \"Bob\", \"456 Elm St\")\n",
    "car_rental_system.add_customer(customer1)\n",
    "car_rental_system.add_customer(customer2)\n",
    "\n",
    "# Renting a car\n",
    "from datetime import datetime, timedelta\n",
    "\n",
    "start_time = datetime.now()\n",
    "end_time = start_time + timedelta(days=5)\n",
    "\n",
    "rental_agreement1 = car_rental_system.rent_car(customer1, \"C001\", start_time, end_time)\n",
    "print(f\"Rental fee for car {rental_agreement1.car.car_id} is ${rental_agreement1.total_fee}\")\n",
    "\n",
    "# Returning the car\n",
    "fee = car_rental_system.return_car(rental_agreement1)\n",
    "print(f\"Final fee for car {rental_agreement1.car.car_id} is ${fee}\")\n",
    "\n",
    "# check availability\n",
    "try:\n",
    "    car3 = Car(\"C003\", \"SUV\", 100)\n",
    "    car_rental_system.check_availability(car3.car_id)\n",
    "except CarNotFoundException as e:\n",
    "    print(e)\n",
    "\n",
    "\n",
    "# Customer not found\n",
    "try:\n",
    "    customer3 = Customer(\"CUS002\", \"Alice\", \"123 Main St\")\n",
    "    car_rental_system.rent_car(customer3, \"C001\", start_time, end_time)\n",
    "except CustomerNotFoundException as e:\n",
    "    print(e)\n"
   ]
  },
  {
   "cell_type": "code",
   "execution_count": null,
   "id": "0474452a-b0b8-47aa-8780-dd424f5c3347",
   "metadata": {},
   "outputs": [],
   "source": []
  }
 ],
 "metadata": {
  "kernelspec": {
   "display_name": "Python 3 (ipykernel)",
   "language": "python",
   "name": "python3"
  },
  "language_info": {
   "codemirror_mode": {
    "name": "ipython",
    "version": 3
   },
   "file_extension": ".py",
   "mimetype": "text/x-python",
   "name": "python",
   "nbconvert_exporter": "python",
   "pygments_lexer": "ipython3",
   "version": "3.10.14"
  }
 },
 "nbformat": 4,
 "nbformat_minor": 5
}
