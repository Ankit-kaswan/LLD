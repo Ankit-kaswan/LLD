{
 "cells": [
  {
   "cell_type": "markdown",
   "id": "06720e9f-2326-4568-9786-175d325554b7",
   "metadata": {},
   "source": [
    "# YAGNI Principle: \"You Aren’t Gonna Need It\"\n",
    "\n",
    "It emphasizes that developers should not add functionality to a system unless it is currently required\n",
    "\n",
    "### Why Follow YAGNI?\n",
    "\n",
    "- Reduces Complexity: Adding extra features leads to unnecessary complexity.\n",
    "- Saves Development Time: We only build what is needed, reducing time wasted on unnecessary work.\n",
    "- Prevents Maintenance Overhead: Every additional feature increases the maintenance cost.\n",
    "- Improves Focus: Focuses development efforts on solving current problems.\n",
    "- Avoids Guesswork: Requirements often evolve. Building for the present ensures the solution matches the current needs."
   ]
  },
  {
   "cell_type": "markdown",
   "id": "bfa01f2d-a5ba-489c-bdc1-e5bde52e5587",
   "metadata": {},
   "source": [
    "## Example 1: Premature Feature Addition \n",
    "\n",
    "Only PayPal is needed now"
   ]
  },
  {
   "cell_type": "code",
   "execution_count": 3,
   "id": "52f1a0d1-62ea-4985-8171-73ce5f9234f7",
   "metadata": {},
   "outputs": [],
   "source": [
    "# Violating YAGNI\n",
    "\n",
    "class PaymentProcessor:\n",
    "    def process_payment(self, amount, payment_type=None):\n",
    "        if payment_type == \"PayPal\":\n",
    "            print(f\"Processing ${amount} via PayPal\")\n",
    "        elif payment_type == \"Stripe\":\n",
    "            print(f\"Processing ${amount} via Stripe\")\n",
    "        elif payment_type == \"Square\":\n",
    "            print(f\"Processing ${amount} via Square\")\n",
    "        else:\n",
    "            raise ValueError(\"Unsupported payment type\")\n"
   ]
  },
  {
   "cell_type": "code",
   "execution_count": 4,
   "id": "c61addc7-bc60-4ea4-98aa-bc0bc217053e",
   "metadata": {},
   "outputs": [],
   "source": [
    "# Following YAGNI\n",
    "\n",
    "class PaymentProcessor:\n",
    "    def process_payment(self, amount):\n",
    "        print(f\"Processing ${amount} via PayPal\")  # Only PayPal is needed now\n"
   ]
  },
  {
   "cell_type": "markdown",
   "id": "e9e131a1-6eea-412c-8bb4-0a84c9d8f0bf",
   "metadata": {},
   "source": [
    "## Example 2: Premature Optimizations\n",
    "\n",
    "The dataset is small"
   ]
  },
  {
   "cell_type": "code",
   "execution_count": 6,
   "id": "a613f65a-dd9c-4fc0-b74b-167cf63a10ad",
   "metadata": {},
   "outputs": [],
   "source": [
    "# Violating YAGNI\n",
    "\n",
    "class DataProcessor:\n",
    "    def __init__(self, data):\n",
    "        self.data = data\n",
    "\n",
    "    def process_data(self):\n",
    "        # Writes optimized code for parallel processing, though it's not needed\n",
    "        print(\"Processing data using multi-threading...\")\n",
    "        # Unnecessary complexity for now\n"
   ]
  },
  {
   "cell_type": "code",
   "execution_count": 7,
   "id": "7b7c50bf-a00f-4ef2-a994-6a3e2adfd799",
   "metadata": {},
   "outputs": [],
   "source": [
    "# Following YAGNI\n",
    "\n",
    "class DataProcessor:\n",
    "    def __init__(self, data):\n",
    "        self.data = data\n",
    "\n",
    "    def process_data(self):\n",
    "        # Simple, straightforward solution for current needs\n",
    "        print(\"Processing data...\")\n"
   ]
  },
  {
   "cell_type": "code",
   "execution_count": null,
   "id": "fd7f09b6-4240-4a8e-850d-055687f37590",
   "metadata": {},
   "outputs": [],
   "source": []
  }
 ],
 "metadata": {
  "kernelspec": {
   "display_name": "Python 3 (ipykernel)",
   "language": "python",
   "name": "python3"
  },
  "language_info": {
   "codemirror_mode": {
    "name": "ipython",
    "version": 3
   },
   "file_extension": ".py",
   "mimetype": "text/x-python",
   "name": "python",
   "nbconvert_exporter": "python",
   "pygments_lexer": "ipython3",
   "version": "3.10.14"
  }
 },
 "nbformat": 4,
 "nbformat_minor": 5
}
