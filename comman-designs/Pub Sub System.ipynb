{
 "cells": [
  {
   "cell_type": "markdown",
   "id": "7465a7f5-c102-40ab-a018-1d4a732e2e4d",
   "metadata": {},
   "source": [
    "# Low-Level Design (LLD) of a Pub Sub System"
   ]
  },
  {
   "cell_type": "markdown",
   "id": "f9761674-aac5-4d12-acf1-d31cb741033f",
   "metadata": {},
   "source": [
    "### 1. Requirements\n",
    "\n",
    "1. The system should support multiple publishers and subscribers\n",
    "\n",
    "2. Ensure thread-safe publishing, preventing race conditions\n",
    "\n",
    "3. Allow dynamic addition of publishers, topics, and subscribers at runtime.\n",
    "\n",
    "4. Support concurrent processing of messages for subscribers.\n",
    "\n",
    "5. Ensure message ordering per topic.\n",
    "\n",
    "6. \n",
    "    \n",
    "---\n",
    "\n",
    "### 2. Constraints\n",
    "\n",
    "1. Thread-safety must be ensured when multiple publishers push messages.\n",
    "2. Subscribers should process messages asynchronously to avoid delays.\n",
    "3. The system should handle thousands of messages concurrently without bottlenecks.\n",
    "\n",
    "\n",
    "---\n",
    "\n",
    "### 3. Identify Entities\n",
    "\n",
    "1. **Message**:\n",
    "    - The data payload sent from publishers to topics\n",
    "\n",
    "2. **Topic**:\n",
    "    - A channel that holds messages and notifies subscribers\n",
    "\n",
    "3. **Publisher**:\n",
    "    - Publishes messages to a topic.\n",
    "\n",
    "4. **Subscriber**:\n",
    "    - Listens to one or more topics and processes messages asynchronously.\n",
    "\n",
    "5. **MessageQueue**:\n",
    "    - A FIFO queue for managing messages per topic.\n",
    "\n",
    "6. ** PubSubManager**:\n",
    "    - Manages publishers, topics, and subscribers."
   ]
  },
  {
   "cell_type": "markdown",
   "id": "4fd41275-aeb4-47a4-9c1e-83b079b4f0d8",
   "metadata": {},
   "source": [
    "### 4. Class Design"
   ]
  },
  {
   "cell_type": "raw",
   "id": "dd980515-8bd7-441e-9242-3c0a6820fa46",
   "metadata": {},
   "source": [
    "+------------------+\n",
    "|  Publisher       |\n",
    "+------------------+\n",
    "| + publish()      |\n",
    "+------------------+\n",
    "        |\n",
    "        v\n",
    "+------------------+\n",
    "|  PubSubManager   |\n",
    "+------------------+\n",
    "| + add_topic()    |\n",
    "| + subscribe()    |\n",
    "| + publish()      |\n",
    "| + notify()       |\n",
    "+------------------+\n",
    "        |\n",
    "        v\n",
    "+------------------+\n",
    "|  Topic          |\n",
    "+------------------+\n",
    "| + add_message()  | \n",
    "| + get_messages() |\n",
    "| + notify()       |\n",
    "+------------------+\n",
    "        |\n",
    "        v\n",
    "+------------------+\n",
    "|  MessageQueue   |\n",
    "+------------------+\n",
    "| + enqueue()      |\n",
    "| + dequeue()      |\n",
    "+------------------+\n",
    "        |\n",
    "        v\n",
    "+------------------+\n",
    "|  Subscriber     |\n",
    "+------------------+\n",
    "| + receive()      |\n",
    "+------------------+\n"
   ]
  },
  {
   "cell_type": "markdown",
   "id": "8b81cfd2-ff73-489b-a5cc-62cda90e001f",
   "metadata": {},
   "source": [
    "#### 4.1. Message Class"
   ]
  },
  {
   "cell_type": "code",
   "execution_count": 5,
   "id": "5ce0f9fe-e414-4087-becb-b5886af4f2be",
   "metadata": {},
   "outputs": [],
   "source": [
    "class Message:\n",
    "    def __init__(self, content: str):\n",
    "        self.content = content"
   ]
  },
  {
   "cell_type": "markdown",
   "id": "77d6a7dd-0103-4cde-82ae-0a152e2ba068",
   "metadata": {},
   "source": [
    "#### 4.2. Publisher Class"
   ]
  },
  {
   "cell_type": "code",
   "execution_count": 7,
   "id": "266c2095-4bdf-4149-b77d-f6667bca0fb5",
   "metadata": {},
   "outputs": [],
   "source": [
    "class Publisher:\n",
    "    def __init__(self, name: str, manager):\n",
    "        self.name = name\n",
    "        self.manager = manager\n",
    "\n",
    "    def publish(self, topic: str, message: Message):\n",
    "        self.manager.publish(topic, message)"
   ]
  },
  {
   "cell_type": "markdown",
   "id": "41447608-c805-4f93-a435-07d66696f01d",
   "metadata": {},
   "source": [
    "#### 4.3. Subscriber Class"
   ]
  },
  {
   "cell_type": "code",
   "execution_count": 9,
   "id": "2e22b6bb-4dc5-42eb-96e8-b1c7bb5ed5b9",
   "metadata": {},
   "outputs": [],
   "source": [
    "class Subscriber:\n",
    "    def __init__(self, name: str):\n",
    "        self.name = name\n",
    "\n",
    "    def receive(self, topic: str, message: Message):\n",
    "        print(f\"{self.name} received message on {topic}: {message.content}\")"
   ]
  },
  {
   "cell_type": "markdown",
   "id": "747d5485-0541-481a-9879-27f5dba11046",
   "metadata": {},
   "source": [
    "#### 4.4. MessageQueue Class"
   ]
  },
  {
   "cell_type": "code",
   "execution_count": 11,
   "id": "7c933b8a-9c5a-45a7-aa33-9a5ae2ad9bf9",
   "metadata": {},
   "outputs": [],
   "source": [
    "from queue import Queue\n",
    "\n",
    "\n",
    "class MessageQueue:\n",
    "    def __init__(self):\n",
    "        self.queue = Queue()\n",
    "\n",
    "    def enqueue(self, message: Message):\n",
    "        self.queue.put(message)\n",
    "\n",
    "    def dequeue(self):\n",
    "        if not self.queue.empty():\n",
    "            return self.queue.get()\n",
    "        return None"
   ]
  },
  {
   "cell_type": "markdown",
   "id": "48af37ef-78d2-41ac-a0d3-56350a8b9bbf",
   "metadata": {},
   "source": [
    "#### 4.5. Topic Class"
   ]
  },
  {
   "cell_type": "code",
   "execution_count": 13,
   "id": "c9827f53-f3a2-4941-9a7c-00efc93a227e",
   "metadata": {},
   "outputs": [],
   "source": [
    "import threading\n",
    "\n",
    "\n",
    "class Topic:\n",
    "    def __init__(self, name: str):\n",
    "        self.name = name\n",
    "        self.subscribers = []\n",
    "        self.message_queue = MessageQueue()\n",
    "        self.lock = threading.RLock()\n",
    "\n",
    "    def add_subscriber(self, subscriber: Subscriber):\n",
    "        with self.lock:\n",
    "            self.subscribers.append(subscriber)\n",
    "\n",
    "    def remove_subscriber(self, subscriber: Subscriber):\n",
    "        with self.lock:\n",
    "            self.subscribers.remove(subscriber)\n",
    "\n",
    "    def add_message(self, message: Message):\n",
    "        self.message_queue.enqueue(message)\n",
    "\n",
    "    def get_messages(self):\n",
    "        return self.message_queue.dequeue()"
   ]
  },
  {
   "cell_type": "markdown",
   "id": "5e4ed7c4-6aac-4fad-95c0-282fe6e5c06c",
   "metadata": {},
   "source": [
    "#### 4.6. PubSubManager Class"
   ]
  },
  {
   "cell_type": "code",
   "execution_count": 15,
   "id": "dd51470d-a78d-470b-b6db-b17723fb44c3",
   "metadata": {},
   "outputs": [],
   "source": [
    "import threading\n",
    "\n",
    "\n",
    "class PubSubManager:\n",
    "    def __init__(self):\n",
    "        self.topics = {}\n",
    "        self.lock = threading.RLock()\n",
    "\n",
    "    def add_topic(self, topic_name: str):\n",
    "        with self.lock:\n",
    "            if topic_name not in self.topics:\n",
    "                self.topics[topic_name] = Topic(topic_name)\n",
    "\n",
    "    def subscribe(self, topic_name: str, subscriber: Subscriber):\n",
    "        with self.lock:\n",
    "            if topic_name not in self.topics:\n",
    "                self.add_topic(topic_name)\n",
    "            self.topics[topic_name].add_subscriber(subscriber)\n",
    "\n",
    "    def unsubscribe(self, topic_name: str, subscriber: Subscriber):\n",
    "        with self.lock:\n",
    "            if topic_name in self.topics:\n",
    "                self.topics[topic_name].remove_subscriber(subscriber)\n",
    "\n",
    "    def publish(self, topic_name: str, message: Message):\n",
    "        with self.lock:\n",
    "            if topic_name not in self.topics:\n",
    "                raise TopicNotFoundException(topic_name)\n",
    "\n",
    "            topic = self.topics[topic_name]\n",
    "            try:\n",
    "                topic.add_message(message)\n",
    "                self.notify(topic_name)\n",
    "            except Exception:\n",
    "                raise PublishException(topic_name)\n",
    "\n",
    "    def notify(self, topic_name: str):\n",
    "        topic = self.topics[topic_name]\n",
    "        while True:\n",
    "            message = topic.get_messages()\n",
    "            if message is None:\n",
    "                break\n",
    "                \n",
    "            for subscriber in topic.subscribers:\n",
    "                threading.Thread(target=subscriber.receive, args=(topic_name, message)).start()"
   ]
  },
  {
   "cell_type": "markdown",
   "id": "d5dc571c-a6f8-466a-ad17-89e899992817",
   "metadata": {},
   "source": [
    "### 5. Exception Handling"
   ]
  },
  {
   "cell_type": "code",
   "execution_count": 17,
   "id": "3ece315e-d5e2-445b-b52a-85320106beca",
   "metadata": {},
   "outputs": [],
   "source": [
    "class TopicNotFoundException(Exception):\n",
    "    def __init__(self, topic_name):\n",
    "        super().__init__(f\"Topic '{topic_name}' not found.\")\n",
    "\n",
    "\n",
    "class SubscriberNotFoundException(Exception):\n",
    "    def __init__(self, subscriber_name):\n",
    "        super().__init__(f\"Subscriber '{subscriber_name}' not found.\")\n",
    "\n",
    "\n",
    "class PublishException(Exception):\n",
    "    def __init__(self, topic_name):\n",
    "        super().__init__(f\"Failed to publish message to '{topic_name}'.\")"
   ]
  },
  {
   "cell_type": "markdown",
   "id": "028a7392-b90e-477e-973a-4c38420a57b8",
   "metadata": {},
   "source": [
    "### 6. Implementation"
   ]
  },
  {
   "cell_type": "code",
   "execution_count": 19,
   "id": "248cc196-6a65-4d21-8035-73299a553377",
   "metadata": {},
   "outputs": [
    {
     "name": "stdout",
     "output_type": "stream",
     "text": [
      "Subscriber1 received message on TechNews: New AI Model Released!\n",
      "Subscriber2 received message on TechNews: New AI Model Released!\n",
      "Subscriber1 received message on TechNews: Python 4.0 Announced!\n",
      "Subscriber2 received message on TechNews: Python 4.0 Announced!\n",
      "Subscriber1 received message on Sports: Football World Cup Begins!\n",
      "Subscriber2 received message on TechNews: New JavaScript Framework Launched!\n"
     ]
    }
   ],
   "source": [
    "if __name__ == \"__main__\":\n",
    "    manager = PubSubManager()\n",
    "\n",
    "    # Create Publishers\n",
    "    publisher1 = Publisher(\"Publisher1\", manager)\n",
    "    publisher2 = Publisher(\"Publisher2\", manager)\n",
    "    \n",
    "    # Create Subscribers\n",
    "    subscriber1 = Subscriber(\"Subscriber1\")\n",
    "    subscriber2 = Subscriber(\"Subscriber2\")\n",
    "\n",
    "    # Subscribe to topics\n",
    "    manager.subscribe(\"TechNews\", subscriber1)\n",
    "    manager.subscribe(\"TechNews\", subscriber2)\n",
    "    manager.subscribe(\"Sports\", subscriber1)\n",
    "\n",
    "    # Multiple Publishers Publishing Messages\n",
    "    publisher1.publish(\"TechNews\", Message(\"New AI Model Released!\"))\n",
    "    publisher2.publish(\"TechNews\", Message(\"Python 4.0 Announced!\"))\n",
    "    publisher1.publish(\"Sports\", Message(\"Football World Cup Begins!\"))\n",
    "\n",
    "    # Unsubscribe\n",
    "    manager.unsubscribe(\"TechNews\", subscriber1)\n",
    "\n",
    "    # More messages after unsubscription\n",
    "    publisher2.publish(\"TechNews\", Message(\"New JavaScript Framework Launched!\"))\n"
   ]
  },
  {
   "cell_type": "code",
   "execution_count": null,
   "id": "b1cc3070-eaa6-4510-9211-e8173fa25d18",
   "metadata": {},
   "outputs": [],
   "source": []
  }
 ],
 "metadata": {
  "kernelspec": {
   "display_name": "Python 3 (ipykernel)",
   "language": "python",
   "name": "python3"
  },
  "language_info": {
   "codemirror_mode": {
    "name": "ipython",
    "version": 3
   },
   "file_extension": ".py",
   "mimetype": "text/x-python",
   "name": "python",
   "nbconvert_exporter": "python",
   "pygments_lexer": "ipython3",
   "version": "3.10.14"
  }
 },
 "nbformat": 4,
 "nbformat_minor": 5
}
