{
 "cells": [
  {
   "cell_type": "markdown",
   "id": "11eac900-1418-4cf3-9f2d-7899f81fc9c9",
   "metadata": {},
   "source": [
    "# Creational Design Patterns\n",
    "\n",
    "Creational design patterns focus on object creation mechanisms, abstracting the instantiation process to make it more flexible and decoupled. Key patterns are:\n",
    "\n",
    "- <b>Singleton</b> ensures a single instance.\n",
    "- <b>Factory Method</b> provides an interface for creating objects.\n",
    "- <b>Abstract Factory</b> provides a way to create families of related objects.\n",
    "- <b>Builder</b> allows step-by-step construction of a complex object.\n",
    "- <b>Prototype</b> clones objects to create new instances.\n",
    "- <b>Object Pool</b> manages a pool of reusable objects"
   ]
  },
  {
   "cell_type": "markdown",
   "id": "f2ccbe76-999a-463a-963f-50567a96e858",
   "metadata": {},
   "source": [
    "### 1. Singleton Pattern\n",
    "\n",
    "- <b>Purpose:</b> Ensures that a class has only one instance and provides a global point of access to that instance.\n",
    "- <b>Use Case:</b> When we need to control access to a shared resource (like a database connection or configuration manager)"
   ]
  },
  {
   "cell_type": "code",
   "execution_count": 4,
   "id": "113975b9-9374-4198-a722-9982a3ad6790",
   "metadata": {},
   "outputs": [
    {
     "name": "stdout",
     "output_type": "stream",
     "text": [
      "True\n"
     ]
    }
   ],
   "source": [
    "class Singleton:\n",
    "    _instance = None\n",
    "\n",
    "    def __new__(cls):\n",
    "        if cls._instance is None:\n",
    "            cls._instance = super(Singleton, cls).__new__(cls)\n",
    "        return cls._instance\n",
    "\n",
    "\n",
    "# Usage\n",
    "singleton1 = Singleton()\n",
    "singleton2 = Singleton()\n",
    "\n",
    "print(singleton1 is singleton2)  # True, they are the same instance\n"
   ]
  },
  {
   "cell_type": "code",
   "execution_count": 5,
   "id": "b53a96b9-e327-4866-ac98-b1b0edb1251f",
   "metadata": {},
   "outputs": [
    {
     "name": "stdout",
     "output_type": "stream",
     "text": [
      "True\n"
     ]
    }
   ],
   "source": [
    "# Using metaclass\n",
    "\n",
    "class SingletonMeta(type):\n",
    "    _instances = {}\n",
    "\n",
    "    def __call__(cls, *args, **kwargs):\n",
    "        if cls not in cls._instances:\n",
    "            cls._instances[cls] = super().__call__(*args, **kwargs)\n",
    "        return cls._instances[cls]\n",
    "\n",
    "\n",
    "class Singleton(metaclass=SingletonMeta):\n",
    "    pass\n",
    "\n",
    "\n",
    "# Usage\n",
    "singleton1 = Singleton()\n",
    "singleton2 = Singleton()\n",
    "\n",
    "print(singleton1 is singleton2)  # Output: True\n"
   ]
  },
  {
   "cell_type": "markdown",
   "id": "fb2afa66-e56f-42b0-b4c1-76462f20bb7e",
   "metadata": {},
   "source": [
    "### 2. Factory Method Pattern\n",
    "\n",
    "- <b>Purpose:</b> Defines an interface for creating an object but allows subclasses to alter the type of objects that will be created.\n",
    "- <b>Use Case:</b> When a class cannot anticipate the type of objects it needs to create and delegates the instantiation to its subclasses."
   ]
  },
  {
   "cell_type": "code",
   "execution_count": 7,
   "id": "2e4e552a-62d0-4396-bc47-19cdb47a3d03",
   "metadata": {},
   "outputs": [
    {
     "name": "stdout",
     "output_type": "stream",
     "text": [
      "Creating PDF document.\n",
      "Creating Word document.\n"
     ]
    }
   ],
   "source": [
    "from abc import ABC, abstractmethod\n",
    "\n",
    "\n",
    "# Abstract product class\n",
    "class Document(ABC):\n",
    "\n",
    "    @abstractmethod\n",
    "    def create(self):\n",
    "        pass\n",
    "\n",
    "\n",
    "# Concrete product classes\n",
    "class PDFDocument(Document):\n",
    "\n",
    "    def create(self):\n",
    "        print(\"Creating PDF document.\")\n",
    "\n",
    "\n",
    "class WordDocument(Document):\n",
    "\n",
    "    def create(self):\n",
    "        print(\"Creating Word document.\")\n",
    "\n",
    "\n",
    "# Abstract factory class\n",
    "class DocumentFactory(ABC):\n",
    "\n",
    "    @abstractmethod\n",
    "    def create_document(self) -> Document:\n",
    "        pass\n",
    "\n",
    "\n",
    "# Concrete factory classes\n",
    "class PDFDocumentFactory(DocumentFactory):\n",
    "\n",
    "    def create_document(self) -> Document:\n",
    "        return PDFDocument()\n",
    "\n",
    "\n",
    "class WordDocumentFactory(DocumentFactory):\n",
    "\n",
    "    def create_document(self) -> Document:\n",
    "        return WordDocument()\n",
    "\n",
    "\n",
    "# Usage\n",
    "def client_code(factory: DocumentFactory):\n",
    "    document = factory.create_document()\n",
    "    document.create()\n",
    "\n",
    "# Client usage example\n",
    "pdf_factory = PDFDocumentFactory()\n",
    "client_code(pdf_factory)  # Output: Creating PDF document.\n",
    "\n",
    "word_factory = WordDocumentFactory()\n",
    "client_code(word_factory)  # Output: Creating Word document.\n"
   ]
  },
  {
   "cell_type": "markdown",
   "id": "9d540bfd-d522-478e-834b-f07a723f7565",
   "metadata": {},
   "source": [
    "### 3. Abstract Factory Pattern\n",
    "\n",
    "- <b>Purpose:</b> Provides an interface for creating families of related or dependent objects without specifying their concrete classes.\n",
    "- <b>Use Case:</b> When we need to create a set of related objects (like a GUI library with different widgets for different platforms)."
   ]
  },
  {
   "cell_type": "code",
   "execution_count": 9,
   "id": "aa2f1f1c-267f-4322-8dd3-3f7a9e1fb917",
   "metadata": {},
   "outputs": [],
   "source": [
    "# Define Abstract Product Classes\n",
    "\n",
    "from abc import ABC, abstractmethod\n",
    "\n",
    "\n",
    "class Document(ABC):\n",
    "\n",
    "    @abstractmethod\n",
    "    def create(self):\n",
    "        pass\n",
    "\n",
    "\n",
    "class Button(ABC):\n",
    "\n",
    "    @abstractmethod\n",
    "    def render(self):\n",
    "        pass\n"
   ]
  },
  {
   "cell_type": "code",
   "execution_count": 10,
   "id": "ad94733a-2704-4c98-80d0-0027753137c0",
   "metadata": {},
   "outputs": [],
   "source": [
    "# Concrete Product Classes\n",
    "\n",
    "class PDFDocument(Document):\n",
    "\n",
    "    def create(self):\n",
    "        print(\"Creating PDF document.\")\n",
    "\n",
    "\n",
    "class WordDocument(Document):\n",
    "\n",
    "    def create(self):\n",
    "        print(\"Creating Word document.\")\n",
    "\n",
    "\n",
    "class PDFButton(Button):\n",
    "\n",
    "    def render(self):\n",
    "        print(\"Rendering PDF button.\")\n",
    "\n",
    "\n",
    "class WordButton(Button):\n",
    "\n",
    "    def render(self):\n",
    "        print(\"Rendering Word button.\")\n"
   ]
  },
  {
   "cell_type": "code",
   "execution_count": 11,
   "id": "46635aa5-3c60-4137-a2c5-61099dbc961e",
   "metadata": {},
   "outputs": [],
   "source": [
    "# Define Abstract Factory Class\n",
    "\n",
    "class DocumentFactory(ABC):\n",
    "\n",
    "    @abstractmethod\n",
    "    def create_document(self) -> Document:\n",
    "        pass\n",
    "\n",
    "    @abstractmethod\n",
    "    def create_button(self) -> Button:\n",
    "        pass\n"
   ]
  },
  {
   "cell_type": "code",
   "execution_count": 12,
   "id": "c1a8d723-533c-48cf-881c-c81430884156",
   "metadata": {},
   "outputs": [],
   "source": [
    "# Concrete Factory Classes\n",
    "\n",
    "class PDFDocumentFactory(DocumentFactory):\n",
    "\n",
    "    def create_document(self) -> Document:\n",
    "        return PDFDocument()\n",
    "\n",
    "    def create_button(self) -> Button:\n",
    "        return PDFButton()\n",
    "\n",
    "\n",
    "class WordDocumentFactory(DocumentFactory):\n",
    "\n",
    "    def create_document(self) -> Document:\n",
    "        return WordDocument()\n",
    "\n",
    "    def create_button(self) -> Button:\n",
    "        return WordButton()\n"
   ]
  },
  {
   "cell_type": "code",
   "execution_count": 13,
   "id": "c440fc00-4ad7-46b9-bc74-7279873a5b38",
   "metadata": {},
   "outputs": [
    {
     "name": "stdout",
     "output_type": "stream",
     "text": [
      "Creating PDF document.\n",
      "Rendering PDF button.\n",
      "Creating Word document.\n",
      "Rendering Word button.\n"
     ]
    }
   ],
   "source": [
    "# Client Code\n",
    "\n",
    "def client_code(factory: DocumentFactory):\n",
    "    document = factory.create_document()\n",
    "    document.create()\n",
    "\n",
    "    button = factory.create_button()\n",
    "    button.render()\n",
    "\n",
    "# Usage\n",
    "pdf_factory = PDFDocumentFactory()\n",
    "client_code(pdf_factory)\n",
    "# Output:\n",
    "# Creating PDF document.\n",
    "# Rendering PDF button.\n",
    "\n",
    "word_factory = WordDocumentFactory()\n",
    "client_code(word_factory)\n",
    "# Output:\n",
    "# Creating Word document.\n",
    "# Rendering Word button.\n"
   ]
  },
  {
   "cell_type": "markdown",
   "id": "0d315c64-710f-4635-a2b9-d463718e78f2",
   "metadata": {},
   "source": [
    "### 4. Builder Pattern\n",
    "\n",
    "- <b>Purpose:</b> Allows the construction of a complex object step by step. The pattern separates the construction process from the actual object representation.\n",
    "- <b>Use Case:</b> When we have a complex object that needs to be created in multiple steps, and different configurations are possible"
   ]
  },
  {
   "cell_type": "code",
   "execution_count": 15,
   "id": "a15219f2-d7cb-4500-a7b2-045116dfbf7c",
   "metadata": {},
   "outputs": [],
   "source": [
    "# Define Product Class\n",
    "\n",
    "class Car:\n",
    "\n",
    "    def __init__(self):\n",
    "        self.make = None\n",
    "        self.model = None\n",
    "        self.year = None\n",
    "        self.engine_type = None\n",
    "        self.color = None\n",
    "\n",
    "    def __repr__(self):\n",
    "        return f\"Car(make={self.make}, model={self.model}, year={self.year}, engine_type={self.engine_type}, color={self.color})\"\n"
   ]
  },
  {
   "cell_type": "code",
   "execution_count": 16,
   "id": "44a93548-77da-42ab-a545-e660ee7ca571",
   "metadata": {},
   "outputs": [],
   "source": [
    "# Create Abstract Builder Class\n",
    "\n",
    "from abc import ABC, abstractmethod\n",
    "\n",
    "\n",
    "class CarBuilder(ABC):\n",
    "\n",
    "    @abstractmethod\n",
    "    def set_make(self, make: str):\n",
    "        pass\n",
    "\n",
    "    @abstractmethod\n",
    "    def set_model(self, model: str):\n",
    "        pass\n",
    "\n",
    "    @abstractmethod\n",
    "    def set_year(self, year: int):\n",
    "        pass\n",
    "\n",
    "    @abstractmethod\n",
    "    def set_engine_type(self, engine_type: str):\n",
    "        pass\n",
    "\n",
    "    @abstractmethod\n",
    "    def set_color(self, color: str):\n",
    "        pass\n",
    "\n",
    "    @abstractmethod\n",
    "    def build(self) -> Car:\n",
    "        pass\n"
   ]
  },
  {
   "cell_type": "code",
   "execution_count": 17,
   "id": "96813abd-6444-4d6f-909b-c8cdbaec311f",
   "metadata": {},
   "outputs": [],
   "source": [
    "# Implement Concrete Builder\n",
    "\n",
    "class ConcreteCarBuilder(CarBuilder):\n",
    "\n",
    "    def __init__(self):\n",
    "        self.car = Car()\n",
    "\n",
    "    def set_make(self, make: str):\n",
    "        self.car.make = make\n",
    "        return self  # Return self to allow method chaining\n",
    "\n",
    "    def set_model(self, model: str):\n",
    "        self.car.model = model\n",
    "        return self\n",
    "\n",
    "    def set_year(self, year: int):\n",
    "        self.car.year = year\n",
    "        return self\n",
    "\n",
    "    def set_engine_type(self, engine_type: str):\n",
    "        self.car.engine_type = engine_type\n",
    "        return self\n",
    "\n",
    "    def set_color(self, color: str):\n",
    "        self.car.color = color\n",
    "        return self\n",
    "\n",
    "    def build(self) -> Car:\n",
    "        return self.car\n"
   ]
  },
  {
   "cell_type": "code",
   "execution_count": 18,
   "id": "6f1babd1-e6b4-4250-9489-119d900154e5",
   "metadata": {},
   "outputs": [],
   "source": [
    "# Create Director Class\n",
    "\n",
    "class CarDirector:\n",
    "\n",
    "    def __init__(self, builder: CarBuilder):\n",
    "        self.builder = builder\n",
    "\n",
    "    def construct_sports_car(self):\n",
    "        return (self.builder\n",
    "                .set_make(\"Ferrari\")\n",
    "                .set_model(\"488\")\n",
    "                .set_year(2020)\n",
    "                .set_engine_type(\"V8\")\n",
    "                .set_color(\"Red\")\n",
    "                .build())\n",
    "\n",
    "    def construct_suv(self):\n",
    "        return (self.builder\n",
    "                .set_make(\"Toyota\")\n",
    "                .set_model(\"Land Cruiser\")\n",
    "                .set_year(2021)\n",
    "                .set_engine_type(\"V6\")\n",
    "                .set_color(\"Black\")\n",
    "                .build())\n"
   ]
  },
  {
   "cell_type": "code",
   "execution_count": 19,
   "id": "b5e5ed0a-c25a-48e4-aaf3-e2239aba97c4",
   "metadata": {},
   "outputs": [
    {
     "name": "stdout",
     "output_type": "stream",
     "text": [
      "Car(make=Honda, model=Civic, year=2023, engine_type=V4, color=Blue)\n",
      "Car(make=Ferrari, model=488, year=2020, engine_type=V8, color=Red)\n",
      "Car(make=Toyota, model=Land Cruiser, year=2021, engine_type=V6, color=Black)\n"
     ]
    }
   ],
   "source": [
    "# Client Code\n",
    "\n",
    "# Using the builder directly\n",
    "builder = ConcreteCarBuilder()\n",
    "car = builder.set_make(\"Honda\").set_model(\"Civic\").set_year(2023).set_engine_type(\"V4\").set_color(\"Blue\").build()\n",
    "print(car)  # Output: Car(make=Honda, model=Civic, year=2023, engine_type=V4, color=Blue)\n",
    "\n",
    "# Using the director\n",
    "director = CarDirector(ConcreteCarBuilder())\n",
    "sports_car = director.construct_sports_car()\n",
    "print(sports_car)  # Output: Car(make=Ferrari, model=488, year=2020, engine_type=V8, color=Red)\n",
    "\n",
    "suv = director.construct_suv()\n",
    "print(suv)  # Output: Car(make=Toyota, model=Land Cruiser, year=2021, engine_type=V6, color=Black)\n"
   ]
  },
  {
   "cell_type": "markdown",
   "id": "f84c49f3-7dba-4b55-9931-a0c7cf4d79b7",
   "metadata": {},
   "source": [
    "### 5. Prototype Pattern\n",
    "\n",
    "- <b>Purpose:</b> Creates new objects by copying an existing object, known as the prototype.\n",
    "- <b>Use Case:</b> When creating an object is expensive or time-consuming and copying an existing one is more efficient. "
   ]
  },
  {
   "cell_type": "code",
   "execution_count": 21,
   "id": "627318ff-819a-4ef8-8c91-32785ed930d9",
   "metadata": {},
   "outputs": [],
   "source": [
    "# Define Prototype Class\n",
    "\n",
    "import copy\n",
    "\n",
    "\n",
    "class Car:\n",
    "\n",
    "    def __init__(self, make, model, year, engine_type, color):\n",
    "        self.make = make\n",
    "        self.model = model\n",
    "        self.year = year\n",
    "        self.engine_type = engine_type\n",
    "        self.color = color\n",
    "\n",
    "    def __repr__(self):\n",
    "        return f\"Car(make={self.make}, model={self.model}, year={self.year}, engine_type={self.engine_type}, color={self.color})\"\n",
    "    \n",
    "    # The clone method will create a new instance of Car by copying the current object\n",
    "    def clone(self):\n",
    "        return copy.deepcopy(self)\n"
   ]
  },
  {
   "cell_type": "code",
   "execution_count": 22,
   "id": "ddcfc15a-88d3-4812-912b-5da421d34903",
   "metadata": {},
   "outputs": [],
   "source": [
    "# Prototype Manager\n",
    "\n",
    "class PrototypeManager:\n",
    "\n",
    "    def __init__(self):\n",
    "        self.prototypes = {}\n",
    "\n",
    "    def register_prototype(self, name, prototype):\n",
    "        self.prototypes[name] = prototype\n",
    "\n",
    "    def clone(self, name):\n",
    "        prototype = self.prototypes.get(name)\n",
    "        if prototype is None:\n",
    "            raise ValueError(f\"Prototype {name} not found\")\n",
    "        return prototype.clone()\n"
   ]
  },
  {
   "cell_type": "code",
   "execution_count": 23,
   "id": "45b46cf7-1f13-4065-982e-46012a40fbe8",
   "metadata": {},
   "outputs": [
    {
     "name": "stdout",
     "output_type": "stream",
     "text": [
      "Original car: Car(make=Tesla, model=Model 3, year=2021, engine_type=Electric, color=Red)\n",
      "Cloned car: Car(make=Tesla, model=Model 3, year=2021, engine_type=Electric, color=Red)\n",
      "Are the original and cloned car the same object? False\n",
      "Cloned car 2: Car(make=Tesla, model=Model 3, year=2021, engine_type=Electric, color=Red)\n",
      "Are cloned car 2 and original car the same? False\n",
      "Are cloned car 2 and cloned car the same? False\n"
     ]
    }
   ],
   "source": [
    "# Client Code\n",
    "\n",
    "# Create an original Car object\n",
    "original_car = Car(\"Tesla\", \"Model 3\", 2021, \"Electric\", \"Red\")\n",
    "print(f\"Original car: {original_car}\")\n",
    "\n",
    "# Clone the car\n",
    "cloned_car = original_car.clone()\n",
    "print(f\"Cloned car: {cloned_car}\")\n",
    "\n",
    "# Check if both objects are distinct\n",
    "print(f\"Are the original and cloned car the same object? {original_car is cloned_car}\")\n",
    "\n",
    "# Create the prototype manager\n",
    "manager = PrototypeManager()\n",
    "\n",
    "# Register a car prototype\n",
    "manager.register_prototype(\"Tesla Model 3\", original_car)\n",
    "\n",
    "# Clone the car prototype\n",
    "cloned_car_2 = manager.clone(\"Tesla Model 3\")\n",
    "print(f\"Cloned car 2: {cloned_car_2}\")\n",
    "\n",
    "# Check if cloned car 2 is the same as the original\n",
    "print(f\"Are cloned car 2 and original car the same? {original_car is cloned_car_2}\")\n",
    "\n",
    "# Check if cloned car 2 is the same as cloned car\n",
    "print(f\"Are cloned car 2 and cloned car the same? {cloned_car is cloned_car_2}\")\n"
   ]
  },
  {
   "cell_type": "markdown",
   "id": "81940499-ea92-4c81-9c10-98548ce5fbfc",
   "metadata": {},
   "source": [
    "### 6. Object Pool Pattern\n",
    "\n",
    "- <b>Purpose:</b> Reuses a fixed number of objects from a pool instead of creating new ones, which can improve performance in systems with limited resources.\n",
    "- <b>Use Case:</b> When the cost of creating and destroying objects frequently is high (e.g., database connections or threads)"
   ]
  },
  {
   "cell_type": "code",
   "execution_count": 25,
   "id": "4dfb8216-2893-4310-a0d2-fc56adec056b",
   "metadata": {},
   "outputs": [],
   "source": [
    "#  Define Pooled Object\n",
    "\n",
    "class DatabaseConnection:\n",
    "    \n",
    "    def __init__(self, connection_string):\n",
    "        self.connection_string = connection_string\n",
    "        self.connected = False\n",
    "    \n",
    "    def connect(self):\n",
    "        if not self.connected:\n",
    "            self.connected = True\n",
    "            print(f\"Connecting to {self.connection_string}\")\n",
    "    \n",
    "    def disconnect(self):\n",
    "        if self.connected:\n",
    "            self.connected = False\n",
    "            print(f\"Disconnecting from {self.connection_string}\")\n",
    "\n",
    "    def __repr__(self):\n",
    "        return f\"DatabaseConnection({self.connection_string})\"\n"
   ]
  },
  {
   "cell_type": "code",
   "execution_count": 26,
   "id": "e9bae9a6-4baa-422f-8035-7de7df986314",
   "metadata": {},
   "outputs": [],
   "source": [
    "# Define Object Pool\n",
    "\n",
    "import threading\n",
    "from queue import Queue\n",
    "\n",
    "\n",
    "class ObjectPool:\n",
    "\n",
    "    def __init__(self, create_fn, max_size):\n",
    "        self.create_fn = create_fn  # Function to create new objects\n",
    "        self.max_size = max_size  # Maximum pool size\n",
    "        self.pool = Queue(max_size)  # Queue for managing available objects\n",
    "        self.lock = threading.Lock()  # Lock to ensure thread safety\n",
    "\n",
    "    def acquire(self):\n",
    "        with self.lock:\n",
    "            if self.pool.empty():\n",
    "                if self.pool.qsize() < self.max_size:\n",
    "                    obj = self.create_fn()\n",
    "                    self.pool.put(obj)\n",
    "                    print(f\"Created new object: {obj}\")\n",
    "                else:\n",
    "                    print(\"No available objects in the pool, waiting...\")\n",
    "                    obj = self.pool.get()  # Block if the pool is empty\n",
    "            else:\n",
    "                obj = self.pool.get()\n",
    "            print(f\"Object acquired: {obj}\")\n",
    "            return obj\n",
    "\n",
    "    def release(self, obj):\n",
    "        with self.lock:\n",
    "            print(f\"Releasing object: {obj}\")\n",
    "            self.pool.put(obj)\n",
    "\n",
    "    def size(self):\n",
    "        return self.pool.qsize()\n"
   ]
  },
  {
   "cell_type": "code",
   "execution_count": 27,
   "id": "9e64be55-51b2-4247-8c90-e96e99a66711",
   "metadata": {},
   "outputs": [
    {
     "name": "stdout",
     "output_type": "stream",
     "text": [
      "Created new object: DatabaseConnection(DB_Server_1)\n",
      "Object acquired: DatabaseConnection(DB_Server_1)\n",
      "Connecting to DB_Server_1\n",
      "Disconnecting from DB_Server_1\n",
      "Releasing object: DatabaseConnection(DB_Server_1)\n",
      "Object acquired: DatabaseConnection(DB_Server_1)\n",
      "Connecting to DB_Server_1\n",
      "Disconnecting from DB_Server_1\n",
      "Releasing object: DatabaseConnection(DB_Server_1)\n",
      "Current pool size: 2\n",
      "Object acquired: DatabaseConnection(DB_Server_1)\n",
      "Connecting to DB_Server_1\n",
      "Disconnecting from DB_Server_1\n",
      "Releasing object: DatabaseConnection(DB_Server_1)\n"
     ]
    }
   ],
   "source": [
    "# Client Code\n",
    "\n",
    "# Create an object pool for database connections\n",
    "pool = ObjectPool(create_fn=lambda: DatabaseConnection(\"DB_Server_1\"), max_size=3)\n",
    "\n",
    "# Acquire and use a connection\n",
    "connection1 = pool.acquire()\n",
    "connection1.connect()\n",
    "connection1.disconnect()\n",
    "pool.release(connection1)\n",
    "\n",
    "# Acquire and use another connection\n",
    "connection2 = pool.acquire()\n",
    "connection2.connect()\n",
    "connection2.disconnect()\n",
    "pool.release(connection2)\n",
    "\n",
    "# Check the current size of the pool\n",
    "print(f\"Current pool size: {pool.size()}\")\n",
    "\n",
    "# Acquire and use another connection\n",
    "connection3 = pool.acquire()\n",
    "connection3.connect()\n",
    "connection3.disconnect()\n",
    "pool.release(connection3)\n"
   ]
  },
  {
   "cell_type": "code",
   "execution_count": null,
   "id": "e8020e32-c0c7-49d8-b48c-6742b322b6c9",
   "metadata": {},
   "outputs": [],
   "source": []
  }
 ],
 "metadata": {
  "kernelspec": {
   "display_name": "Python 3 (ipykernel)",
   "language": "python",
   "name": "python3"
  },
  "language_info": {
   "codemirror_mode": {
    "name": "ipython",
    "version": 3
   },
   "file_extension": ".py",
   "mimetype": "text/x-python",
   "name": "python",
   "nbconvert_exporter": "python",
   "pygments_lexer": "ipython3",
   "version": "3.10.14"
  }
 },
 "nbformat": 4,
 "nbformat_minor": 5
}
